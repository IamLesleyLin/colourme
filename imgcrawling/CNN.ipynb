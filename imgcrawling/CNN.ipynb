{
 "cells": [
  {
   "cell_type": "code",
   "execution_count": null,
   "metadata": {},
   "outputs": [],
   "source": [
    "import keras\n",
    "from keras.models import Sequential\n",
    "from keras.layers import Dense, Dropout, Flatten\n",
    "from keras.layers import Conv2D, MaxPooling2D\n",
    "\n",
    "#from keras.datasets import mnist\n",
    "#(X_train, y_train), (X_test, y_test) = mnist.load_data()\n",
    "#導入 MNIST 資料庫的訓練資料，並自動分為『訓練組』及『測試組』\n",
    "\n",
    "#讀我們自己的\n",
    "import cv2\n",
    "import pandas as pd\n",
    "import numpy as np\n",
    "df = pd.read_csv('./transformation.csv')\n",
    "\n",
    "\n",
    "\n",
    "# mnist 的圖集黑色是255，白色是 0，而圖片讀進來是 黑色是0，白色是 255\n",
    "# 所以在這裡除255後，也順便把黑白翻轉過來。\n",
    "data = 1 - data / 255.0\n",
    "\n",
    "\n",
    "from sklearn.model_selection import train_test_split\n",
    "# Split the data into training and test sets\n",
    "x_train, x_test, y_train, y_test = train_test_split(x, y, test_size=0.2)\n",
    "\n",
    "np.save(r'x_train.npy', x_train)\n",
    "np.save(r'y_train.npy', y_train)\n",
    "np.save(r'x_test.npy', x_test)\n",
    "np.save(r'y_test.npy', y_test)\n",
    "\n",
    "x_train = np.load(r'x_train.npy')\n",
    "y_train = np.load(r'y_train.npy')\n",
    "x_test = np.load(r'x_test.npy')\n",
    "y_test = np.load(r'y_test.npy')"
   ]
  },
  {
   "cell_type": "code",
   "execution_count": null,
   "metadata": {},
   "outputs": [],
   "source": [
    "from keras.preprocessing.image import ImageDataGenerator #利用現有的資料經過旋轉、翻轉、縮放…等方式增加更多的訓練資料(我們還需要這個步驟嗎？)\n",
    "train_datagen = ImageDataGenerator(rescale = 1./255, shear_range = 0.2, zoom_range = 0.2, horizontal_flip = True)\n",
    "test_datagen = ImageDataGenerator(rescale = 1./255)\n",
    "\n",
    "\n",
    "#要把資料做轉換的步驟則是用 .flow(X,y) 或是 .flow_from_directory(directory) 讀取資料集+批量生成器，產生每epoch訓練樣本\n",
    "training_set = train_datagen.flow_from_directory(\"./classify/dataset/training_set\", target_size = (64, 64), batch_size = 5)\n",
    "test_set = test_datagen.flow_from_directory(\"./classify/dataset/test_set\", target_size = (64, 64), batch_size = 5)\n"
   ]
  },
  {
   "cell_type": "code",
   "execution_count": null,
   "metadata": {},
   "outputs": [],
   "source": [
    "model = Sequential()\n",
    "model.add(Conv2D(32, (5, 5), input_shape=(28, 28, 1), activation='relu')) #32 is no. of filters and kernel size is 5*5. ReLU is activation layer.\n",
    "\n",
    "model.add(MaxPooling2D(pool_size=(2,2))) #add Max pooling layer with kernel size 2*2 .\n",
    "\n",
    "model.add(Flatten())\n",
    "model.add(Dense(128, activation='relu'))\n",
    "model.add(Dense(10, activation='softmax'))\n",
    "\n",
    "model = Sequential()\n",
    "model.add(Conv2D(32, (5, 5), input_shape=(28, 28, 1), activation='relu'))\n",
    "model.add(MaxPooling2D())\n",
    "model.add(Dropout(0.2))\n",
    "model.add(Flatten())\n",
    "model.add(Dense(128, activation='relu'))\n",
    "model.add(Dense(num_classes, activation='softmax'))\n",
    "\n",
    "model.compile(loss='categorical_crossentropy', optimizer='adam', metrics=['accuracy'])\n",
    "model.fit(x_train, y_train, validation_data=(x_test, y_test), epochs=10, batch_size=200)\n",
    "\n",
    "\n",
    "\n",
    "#Evaluating model in keras\n",
    "score = model.evaluate(x_test, target_test, verbose=0)\n",
    "print(f'Test loss: {score[0]} / Test accuracy: {score[1]}')\n",
    "\n",
    "\n",
    "model.fit_generator(training_set, epochs = 2, validation_data = test_set, verbose = 1)\n",
    "score = model.evaluate_generator(test_set)\n",
    "\n",
    "\n",
    "#model.save('EfficientNetB0-40-Stripped.h5', include_optimizer=False)如果你對這個模型滿意，想要保留之後使用的話，可以這樣設定儲存參數，那麼優化器的狀態不會被保存下來，可以節省不少體積，減少的體積量依使用優化器的不同而定，使用adam的話，這麼做是很有感的，如果你是之前中斷訓練，且有意後續載入繼續進行訓練的話，建議可以先不做。"
   ]
  }
 ],
 "metadata": {
  "kernelspec": {
   "display_name": "Python 3",
   "language": "python",
   "name": "python3"
  },
  "language_info": {
   "name": "python",
   "version": "3.11.0 (main, Oct 24 2022, 18:26:48) [MSC v.1933 64 bit (AMD64)]"
  },
  "orig_nbformat": 4,
  "vscode": {
   "interpreter": {
    "hash": "574df64408e4635801aa20724f5bd67158dcc0405c62728fda99f99539c35838"
   }
  }
 },
 "nbformat": 4,
 "nbformat_minor": 2
}
