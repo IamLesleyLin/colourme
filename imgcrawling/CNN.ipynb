{
  "cells": [
    {
      "cell_type": "code",
      "source": [
        "from google.colab import drive\n",
        "drive.mount('/content/drive')"
      ],
      "metadata": {
        "colab": {
          "base_uri": "https://localhost:8080/"
        },
        "id": "yewexSls1gmT",
        "outputId": "476d43ed-3b43-4bf8-8e37-053dcfe4b312"
      },
      "execution_count": null,
      "outputs": [
        {
          "output_type": "stream",
          "name": "stdout",
          "text": [
            "Mounted at /content/drive\n"
          ]
        }
      ]
    },
    {
      "cell_type": "code",
      "execution_count": 6,
      "metadata": {
        "id": "wiU60mr_z2YS"
      },
      "outputs": [],
      "source": [
        "import keras\n",
        "from keras.models import Sequential\n",
        "from keras.layers import Dense, Dropout, Flatten\n",
        "from keras.layers import Conv2D, MaxPooling2D\n",
        "\n",
        "import cv2\n",
        "import pandas as pd\n",
        "import numpy as np\n",
        "df = pd.read_csv('/content/drive/MyDrive/Colab Notebooks/project/transformation.csv')\n",
        "\n",
        "from sklearn.model_selection import train_test_split\n",
        "from sklearn.model_selection import cross_val_score\n",
        "#簡單的\n",
        "x, y = df[df.columns[1:802]], df[df.columns[0]]\n",
        "x_train, x_test, y_train, y_test = train_test_split(x, y, test_size=0.2, random_state = 1, stratify= y)\n",
        "x_TT, x_val, y_TT, y_val = train_test_split(x_train, y_train, test_size=0.2, random_state = 1, stratify= y_train)\n",
        "\n",
        "\n",
        "#from sklearn.preprocessing import LabelEncoder "
      ]
    },
    {
      "cell_type": "code",
      "source": [
        "#x_TT, x_test, y_TT , y_test, x_val, y_val\n",
        "\n",
        "print(x_TT)\n",
        "print(\"---------\")\n",
        "print(x_test)\n",
        "print(\"---------\")\n",
        "print(x_val)\n",
        "print(\"---------\")\n",
        "print(y_TT)\n",
        "print(\"---------\")\n",
        "print(y_test)\n",
        "print(\"---------\")\n",
        "print(y_val)\n"
      ],
      "metadata": {
        "id": "Eg7aS-bv1h_Q",
        "colab": {
          "base_uri": "https://localhost:8080/"
        },
        "outputId": "a6935134-b27b-4c3b-8101-6af71587b379"
      },
      "execution_count": 8,
      "outputs": [
        {
          "output_type": "stream",
          "name": "stdout",
          "text": [
            "       0    1    2    3    4    5    6    7    8    9  ...  791  792  793  \\\n",
            "127  255  255  255  255  255  255  255  255  255  255  ...  255  255  255   \n",
            "264  255  255  255  255  255  255  255  255  255  255  ...  255  255  255   \n",
            "574  255  255  255  255  255  255  255  255  255  255  ...  255  255  255   \n",
            "660  255  255  255  255  255  255  255  255  255  255  ...  255  255  255   \n",
            "60   255  255  255  255  255  255  255  255  255  255  ...  255  255  255   \n",
            "..   ...  ...  ...  ...  ...  ...  ...  ...  ...  ...  ...  ...  ...  ...   \n",
            "222  255  255  255  255  255  255  255  255  255  255  ...  255  255  255   \n",
            "685  255  255  255  255  255  255  255  255  255  255  ...  255  255  255   \n",
            "252  255  255  255  255  255  255  255  255  255  255  ...  255  255  255   \n",
            "427  255  255  255  255  255  255  255  255  255  255  ...  255  255  255   \n",
            "205  255  255  255  255  255  255  255  255  255  255  ...  255  255  255   \n",
            "\n",
            "     794  795  796  797  798  799  800  \n",
            "127  255  255  255  255  255  255  255  \n",
            "264  255  255  255  255  255  255  255  \n",
            "574  255  255  255  255  255  255  255  \n",
            "660  255  255  255  255  255  255  255  \n",
            "60   255  255  255  255  255  255  255  \n",
            "..   ...  ...  ...  ...  ...  ...  ...  \n",
            "222  255  255  255  255  255  255  255  \n",
            "685  255  255  255  255  255  255  255  \n",
            "252  255  255  255  255  255  255  255  \n",
            "427  255  255  255  255  255  255  255  \n",
            "205  255  255  255  255  255  255  255  \n",
            "\n",
            "[512 rows x 801 columns]\n",
            "---------\n",
            "       0    1    2    3    4    5    6    7    8    9  ...  791  792  793  \\\n",
            "15   255  255  255  255  255  255  255  255  255  255  ...  255  255  255   \n",
            "542  255  255  255  255  255  255  255  255  255  255  ...  255  255  255   \n",
            "681  255  255  255  255  255  255  255  255  255  255  ...  255  255  255   \n",
            "608  255  255  255  255  255  255  255  255  255  255  ...  255  255  255   \n",
            "787  255  255  255  255  255  255  255  255  255  255  ...  255  255  255   \n",
            "..   ...  ...  ...  ...  ...  ...  ...  ...  ...  ...  ...  ...  ...  ...   \n",
            "328  255  255  255  255  255  255  255  255  255  255  ...  255  255  255   \n",
            "512  255  255  255  255  255  255  255  255  255  255  ...  255  255  255   \n",
            "315  255  255  255  255  255  255  255  255  255  255  ...  255  255  255   \n",
            "293  255  255  255  255  255  255  255  255  255  255  ...  255  255  255   \n",
            "431  255  255  255  255  255  255  255  255  255  255  ...  255  255  255   \n",
            "\n",
            "     794  795  796  797  798  799  800  \n",
            "15   255  255  255  255  255  255  255  \n",
            "542  255  255  255  255  255  255  255  \n",
            "681  255  255  255  255  255  255  255  \n",
            "608  255  255  255  255  255  255  255  \n",
            "787  255  255  255  255  255  255  255  \n",
            "..   ...  ...  ...  ...  ...  ...  ...  \n",
            "328  255  255  255  255  255  255  255  \n",
            "512  255  255  255  255  255  255  255  \n",
            "315  255  255  255  255  255  255  255  \n",
            "293  255  255  255  255  255  255  255  \n",
            "431  255  255  255  255  255  255  255  \n",
            "\n",
            "[160 rows x 801 columns]\n",
            "---------\n",
            "       0    1    2    3    4    5    6    7    8    9  ...  791  792  793  \\\n",
            "702  255  255  255  255  255  255  255  255  255  255  ...  255  255  255   \n",
            "473  255  255  255  255  255  255  255  255  255  255  ...  255  255  255   \n",
            "306  255  255  255  255  255  255  255  255  255  255  ...  255  255  255   \n",
            "756  255  255  255  255  255  255  255  255  255  255  ...  255  255  255   \n",
            "795  255  255  255  255  255  255  255  255  255  255  ...  255  255  255   \n",
            "..   ...  ...  ...  ...  ...  ...  ...  ...  ...  ...  ...  ...  ...  ...   \n",
            "659  255  255  255  255  255  255  255  255  255  255  ...  255  255  255   \n",
            "49   255  255  255  255  255  255  255  255  255  255  ...  255  255  255   \n",
            "472  255  255  255  255  255  255  255  255  255  255  ...  255  255  255   \n",
            "611  255  255  255  255  255  255  255  255  255  255  ...  255  255  255   \n",
            "784  255  255  255  255  255  255  255  255  255  255  ...  255  255  255   \n",
            "\n",
            "     794  795  796  797  798  799  800  \n",
            "702  255  255  255  255  255  255  255  \n",
            "473  255  255  255  255  255  255  255  \n",
            "306  255  255  255  255  255  255  255  \n",
            "756  255  255  255  255  255  255  255  \n",
            "795  255  255  255  255  255  255  255  \n",
            "..   ...  ...  ...  ...  ...  ...  ...  \n",
            "659  255  255  255  255  255  255  255  \n",
            "49   255  255  255  255  255  255  255  \n",
            "472  255  255  255  255  255  255  255  \n",
            "611  255  255  255  255  255  255  255  \n",
            "784  255  255  255  255  255  255  255  \n",
            "\n",
            "[128 rows x 801 columns]\n",
            "---------\n",
            "127    50234336\n",
            "264    50206908\n",
            "574    50129334\n",
            "660    50106926\n",
            "60     50237188\n",
            "         ...   \n",
            "222    50209852\n",
            "685    50106866\n",
            "252    50208548\n",
            "427    50149782\n",
            "205    50209920\n",
            "Name: productID, Length: 512, dtype: int64\n",
            "---------\n",
            "15     50237800\n",
            "542    50134278\n",
            "681    50106866\n",
            "608    50116870\n",
            "787    50082382\n",
            "         ...   \n",
            "328    50188936\n",
            "512    50139960\n",
            "315    50189244\n",
            "293    50191328\n",
            "431    50149782\n",
            "Name: productID, Length: 160, dtype: int64\n",
            "---------\n",
            "702    50106054\n",
            "473    50142448\n",
            "306    50189244\n",
            "756    50099400\n",
            "795    50082382\n",
            "         ...   \n",
            "659    50106926\n",
            "49     50237188\n",
            "472    50142448\n",
            "611    50116870\n",
            "784    50082382\n",
            "Name: productID, Length: 128, dtype: int64\n"
          ]
        }
      ]
    },
    {
      "cell_type": "code",
      "source": [
        "\n",
        "#reshape\n",
        "\n",
        "\n",
        "#標準化 min-max/另一個\n",
        "#直接除255?\n",
        "\n",
        "# mnist 的圖集黑色是255，白色是 0，而圖片讀進來是 黑色是0，白色是 255\n",
        "# 所以在這裡除255後，也順便把黑白翻轉過來。\n",
        "#data = 1 - data / 255.0 已經做了uint8"
      ],
      "metadata": {
        "id": "564Mp2v08_WW"
      },
      "execution_count": null,
      "outputs": []
    },
    {
      "cell_type": "code",
      "execution_count": null,
      "metadata": {
        "id": "mPZAwY-Qz2Yg"
      },
      "outputs": [],
      "source": [
        "# from keras.preprocessing.image import ImageDataGenerator #利用現有的資料經過旋轉、翻轉、縮放…等方式增加更多的訓練資料\n",
        "# train_datagen = ImageDataGenerator(rescale = 1./255, shear_range = 0.2, zoom_range = 0.2, horizontal_flip = True)\n",
        "# test_datagen = ImageDataGenerator(rescale = 1./255)\n",
        "\n",
        "\n",
        "# #要把資料做轉換的步驟則是用 .flow(X,y) 或是 .flow_from_directory(directory) 讀取資料集+批量生成器，產生每epoch訓練樣本\n",
        "# training_set = train_datagen.flow_from_directory(\"./classify/dataset/training_set\", target_size = (64, 64), batch_size = 5)\n",
        "# test_set = test_datagen.flow_from_directory(\"./classify/dataset/test_set\", target_size = (64, 64), batch_size = 5)\n"
      ]
    },
    {
      "cell_type": "code",
      "execution_count": null,
      "metadata": {
        "id": "sYHmq6WMz2Yi"
      },
      "outputs": [],
      "source": [
        "model = Sequential()\n",
        "model.add(Conv2D(32, (5, 5), input_shape=(28, 28, 1), activation='relu')) #32 is no. of filters and kernel size is 5*5. ReLU is activation layer.s\n",
        "\n",
        "model.add(MaxPooling2D(pool_size=(2,2))) #add Max pooling layer with kernel size 2*2 .\n",
        "\n",
        "model.add(Flatten())\n",
        "model.add(Dense(128, activation='relu'))\n",
        "model.add(Dense(10, activation='softmax'))\n",
        "\n",
        "model = Sequential()\n",
        "model.add(Conv2D(32, (5, 5), input_shape=(28, 28, 1), activation='relu'))\n",
        "model.add(MaxPooling2D())\n",
        "model.add(Dropout(0.2))\n",
        "model.add(Flatten())\n",
        "model.add(Dense(128, activation='relu'))\n",
        "model.add(Dense(num_classes, activation='softmax'))\n",
        "\n",
        "model.compile(loss='categorical_crossentropy', optimizer='adam', metrics=['accuracy'])\n",
        "model.fit(x_train, y_train, validation_data=(x_test, y_test), epochs=10, batch_size=200)\n",
        "\n",
        "\n",
        "\n",
        "#Evaluating model in keras\n",
        "score = model.evaluate(x_test, target_test, verbose=0)\n",
        "print(f'Test loss: {score[0]} / Test accuracy: {score[1]}')\n",
        "\n",
        "model.fit_generator(training_set, epochs = 2, validation_data = test_set, verbose = 1)\n",
        "score = model.evaluate_generator(test_set)\n",
        "\n",
        "\n",
        "#model.save('EfficientNetB0-40-Stripped.h5', include_optimizer=False)如果你對這個模型滿意，想要保留之後使用的話，可以這樣設定儲存參數，那麼優化器的狀態不會被保存下來，可以節省不少體積，減少的體積量依使用優化器的不同而定，使用adam的話，這麼做是很有感的，如果你是之前中斷訓練，且有意後續載入繼續進行訓練的話，建議可以先不做。"
      ]
    }
  ],
  "metadata": {
    "kernelspec": {
      "display_name": "Python 3",
      "language": "python",
      "name": "python3"
    },
    "language_info": {
      "codemirror_mode": {
        "name": "ipython",
        "version": 3
      },
      "file_extension": ".py",
      "mimetype": "text/x-python",
      "name": "python",
      "nbconvert_exporter": "python",
      "pygments_lexer": "ipython3",
      "version": "3.11.0"
    },
    "orig_nbformat": 4,
    "vscode": {
      "interpreter": {
        "hash": "574df64408e4635801aa20724f5bd67158dcc0405c62728fda99f99539c35838"
      }
    },
    "colab": {
      "provenance": []
    }
  },
  "nbformat": 4,
  "nbformat_minor": 0
}