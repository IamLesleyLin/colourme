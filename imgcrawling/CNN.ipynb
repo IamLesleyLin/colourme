{
  "cells": [
    {
      "cell_type": "code",
      "source": [
        "from google.colab import drive\n",
        "drive.mount('/content/drive')"
      ],
      "metadata": {
        "colab": {
          "base_uri": "https://localhost:8080/"
        },
        "id": "yewexSls1gmT",
        "outputId": "a5640e20-83e8-4b5c-8690-14e6966b669d"
      },
      "execution_count": 5,
      "outputs": [
        {
          "output_type": "stream",
          "name": "stdout",
          "text": [
            "Mounted at /content/drive\n"
          ]
        }
      ]
    },
    {
      "cell_type": "code",
      "execution_count": 17,
      "metadata": {
        "id": "wiU60mr_z2YS"
      },
      "outputs": [],
      "source": [
        "import keras\n",
        "from keras.models import Sequential, load_model, model_from_json\n",
        "from keras.layers import Dense, Dropout, Flatten, Conv2D, MaxPooling2D\n",
        "from keras.utils import to_categorical, plot_model\n",
        "from keras.optimizers import Adam \n",
        "import matplotlib.pyplot as plt\n",
        "import cv2\n",
        "import pandas as pd\n",
        "import numpy as np\n",
        "from sklearn.model_selection import train_test_split\n",
        "from sklearn.preprocessing import LabelEncoder, OneHotEncoder"
      ]
    },
    {
      "cell_type": "code",
      "source": [
        "df = pd.read_csv('/content/drive/MyDrive/Colab Notebooks/project/final.csv')"
      ],
      "metadata": {
        "id": "XEyTB7c7CCbu"
      },
      "execution_count": 6,
      "outputs": []
    },
    {
      "cell_type": "code",
      "source": [
        "#簡單的\n",
        "x, y = df[df.columns[2:]], df[df.columns[1]]\n",
        "labelencoder = LabelEncoder()\n",
        "y = labelencoder.fit_transform(y)\n",
        "\n",
        "x_traval, x_test, y_traval, y_test = train_test_split(x, y, test_size=0.2, random_state = 1, stratify= y)\n",
        "x_train, x_val, y_train, y_val = train_test_split(x_traval, y_traval, test_size=0.2, random_state = 1, stratify= y_traval)"
      ],
      "metadata": {
        "id": "5pKugkmGAwrX"
      },
      "execution_count": 7,
      "outputs": []
    },
    {
      "cell_type": "code",
      "source": [],
      "metadata": {
        "id": "Fj5np6XyA3vF"
      },
      "execution_count": null,
      "outputs": []
    },
    {
      "cell_type": "code",
      "source": [
        "#reshape\n",
        "x_train_r = np.array(x_train).reshape(-1,100,100)\n",
        "x_test_r = np.array(x_test).reshape(-1,100,100)\n",
        "x_val_r = np.array(x_val).reshape(-1,100,100)\n",
        "\n",
        "# 轉換色彩 0~255 資料為 0~1\n",
        "x_train_r = x_train_r.astype('float32')\n",
        "x_val_r = x_val_r.astype('float32')\n",
        "x_test_r = x_test_r.astype('float32')\n",
        "\n",
        "x_train_r /= 255\n",
        "x_val_r /= 255\n",
        "x_test_r /= 255\n",
        "\n",
        "# y 值轉成 one-hot encoding\n",
        "y_train_e = keras.utils.to_categorical(y_train, num_classes=12, dtype='float32') \n",
        "y_test_e = keras.utils.to_categorical(y_test, num_classes=12, dtype='float32')\n",
        "y_val_e = keras.utils.to_categorical(y_val, num_classes=12, dtype='float32')"
      ],
      "metadata": {
        "id": "j8QFnLNRbnAr"
      },
      "execution_count": 8,
      "outputs": []
    },
    {
      "cell_type": "code",
      "source": [
        "y_train_e"
      ],
      "metadata": {
        "id": "rm-nt3pyA0fj"
      },
      "execution_count": null,
      "outputs": []
    },
    {
      "cell_type": "code",
      "source": [
        "# 定義分類數量 每個系列\n",
        "num_classes = 12\n",
        "\n",
        "model = Sequential()\n",
        "model.add(Conv2D(32, (3, 3), input_shape=(100, 100, 1), activation='relu')) #32 is no. of filters and kernel size is 3*3. ReLU is activation layer\n",
        "# model.add(MaxPooling2D(pool_size=(2,2))) #add Max pooling layer with kernel size 2*2 \n",
        "# model.add(Dropout(0.3))\n",
        "model.add(Conv2D(64, (3, 3), activation='relu')) \n",
        "# model.add(MaxPooling2D(pool_size=(2,2))) \n",
        "model.add(Dropout(0.3))\n",
        "model.add(Conv2D(128, (3, 3), activation='relu'))\n",
        "model.add(MaxPooling2D(pool_size=(2,2)))\n",
        "model.add(Dropout(0.3))\n",
        "model.add(Conv2D(256, (3, 3), activation='relu'))\n",
        "# model.add(MaxPooling2D(pool_size=(2,2)))\n",
        "# model.add(Dropout(0.4))\n",
        "# model.add(Conv2D(512, (3, 3), activation='relu'))\n",
        "# model.add(MaxPooling2D(pool_size=(2,2))) \n",
        "model.add(Flatten())\n",
        "# model.add(Dense(256, activation='relu'))\n",
        "model.add(Dense(num_classes, activation='softmax')) \n",
        "# adam = Adam(lr=1e-4)\n",
        "\n",
        "model.compile(loss='categorical_crossentropy', optimizer='adam', metrics=['acc'])\n",
        "history = model.fit(x_train_r, y_train_e, validation_data=(x_val_r, y_val_e), epochs=50, batch_size=32)\n",
        "\n",
        "#Evaluating model in keras\n",
        "score = model.evaluate(x_test_r, y_test_e, verbose=0)\n",
        "print(f'Test loss: {score[0]} / Test accuracy: {score[1]}')\n",
        "\n",
        "# model.fit_generator(training_set, epochs = 2, validation_data = test_set, verbose = 1)\n",
        "# score = model.evaluate_generator(test_set)\n",
        "\n",
        "#model.save('my_model.h5', include_optimizer=False)\n",
        "#如果你對這個模型滿意，想要保留之後使用的話，可以這樣設定儲存參數，那麼優化器的狀態不會被保存下來，可以節省不少體積，減少的體積量依使用優化器的不同而定，使用adam的話，這麼做是很有感的，如果你是之前中斷訓練，且有意後續載入繼續進行訓練的話，建議可以先不做。"
      ],
      "metadata": {
        "colab": {
          "base_uri": "https://localhost:8080/"
        },
        "id": "HYJqmq5jPLZd",
        "outputId": "be2cfaff-bc2c-4899-c249-c31fcd4fc0d2"
      },
      "execution_count": null,
      "outputs": [
        {
          "output_type": "stream",
          "name": "stdout",
          "text": [
            "Epoch 1/50\n",
            "16/16 [==============================] - 113s 7s/step - loss: 3.7585 - acc: 0.1543 - val_loss: 2.3624 - val_acc: 0.1953\n",
            "Epoch 2/50\n",
            "16/16 [==============================] - 116s 7s/step - loss: 2.3510 - acc: 0.1973 - val_loss: 2.2953 - val_acc: 0.1953\n",
            "Epoch 3/50\n",
            "16/16 [==============================] - 107s 7s/step - loss: 2.2962 - acc: 0.1914 - val_loss: 2.2939 - val_acc: 0.2031\n",
            "Epoch 4/50\n",
            "16/16 [==============================] - 109s 7s/step - loss: 2.2970 - acc: 0.2090 - val_loss: 2.3507 - val_acc: 0.1953\n",
            "Epoch 5/50\n",
            "16/16 [==============================] - 107s 7s/step - loss: 2.3150 - acc: 0.2051 - val_loss: 2.3377 - val_acc: 0.2422\n",
            "Epoch 6/50\n",
            "16/16 [==============================] - 108s 7s/step - loss: 2.3340 - acc: 0.1973 - val_loss: 2.3555 - val_acc: 0.2422\n",
            "Epoch 7/50\n",
            "16/16 [==============================] - 107s 7s/step - loss: 2.2908 - acc: 0.2148 - val_loss: 2.2703 - val_acc: 0.2109\n",
            "Epoch 8/50\n",
            "16/16 [==============================] - 110s 7s/step - loss: 2.2793 - acc: 0.2480 - val_loss: 2.2368 - val_acc: 0.2031\n",
            "Epoch 9/50\n",
            "16/16 [==============================] - 104s 7s/step - loss: 2.2119 - acc: 0.2695 - val_loss: 2.1482 - val_acc: 0.2734\n",
            "Epoch 10/50\n",
            "16/16 [==============================] - 106s 7s/step - loss: 2.0660 - acc: 0.3203 - val_loss: 2.0729 - val_acc: 0.2578\n",
            "Epoch 11/50\n",
            "16/16 [==============================] - 106s 7s/step - loss: 1.8554 - acc: 0.3223 - val_loss: 2.2469 - val_acc: 0.3047\n",
            "Epoch 12/50\n",
            "16/16 [==============================] - 111s 7s/step - loss: 1.6640 - acc: 0.4492 - val_loss: 2.6555 - val_acc: 0.2734\n",
            "Epoch 13/50\n",
            "16/16 [==============================] - 108s 7s/step - loss: 1.5169 - acc: 0.5078 - val_loss: 2.7630 - val_acc: 0.3672\n",
            "Epoch 14/50\n",
            "16/16 [==============================] - 114s 7s/step - loss: 1.2748 - acc: 0.5859 - val_loss: 2.8906 - val_acc: 0.4219\n",
            "Epoch 15/50\n",
            "16/16 [==============================] - 111s 7s/step - loss: 0.9062 - acc: 0.7246 - val_loss: 4.0273 - val_acc: 0.3984\n",
            "Epoch 16/50\n",
            "16/16 [==============================] - 105s 7s/step - loss: 0.6504 - acc: 0.8184 - val_loss: 2.7354 - val_acc: 0.5078\n",
            "Epoch 17/50\n",
            "16/16 [==============================] - 106s 7s/step - loss: 0.4373 - acc: 0.8730 - val_loss: 2.9340 - val_acc: 0.5469\n",
            "Epoch 18/50\n",
            "16/16 [==============================] - 104s 7s/step - loss: 0.2233 - acc: 0.9199 - val_loss: 4.0517 - val_acc: 0.5859\n",
            "Epoch 19/50\n",
            "16/16 [==============================] - 107s 7s/step - loss: 0.1295 - acc: 0.9531 - val_loss: 4.1242 - val_acc: 0.5703\n",
            "Epoch 20/50\n",
            "16/16 [==============================] - 104s 7s/step - loss: 0.0914 - acc: 0.9688 - val_loss: 6.5575 - val_acc: 0.4609\n",
            "Epoch 21/50\n",
            "16/16 [==============================] - 120s 8s/step - loss: 0.1345 - acc: 0.9688 - val_loss: 4.0002 - val_acc: 0.5625\n",
            "Epoch 22/50\n",
            "16/16 [==============================] - 107s 7s/step - loss: 0.2223 - acc: 0.9590 - val_loss: 4.0664 - val_acc: 0.5547\n",
            "Epoch 23/50\n",
            "16/16 [==============================] - 105s 7s/step - loss: 0.0964 - acc: 0.9844 - val_loss: 3.8178 - val_acc: 0.5703\n",
            "Epoch 24/50\n",
            "16/16 [==============================] - 107s 7s/step - loss: 0.0369 - acc: 0.9941 - val_loss: 4.2237 - val_acc: 0.5859\n",
            "Epoch 25/50\n",
            "16/16 [==============================] - 104s 7s/step - loss: 0.0091 - acc: 1.0000 - val_loss: 4.5452 - val_acc: 0.5938\n",
            "Epoch 26/50\n",
            "16/16 [==============================] - 106s 7s/step - loss: 0.0028 - acc: 1.0000 - val_loss: 4.7669 - val_acc: 0.6094\n",
            "Epoch 27/50\n",
            "16/16 [==============================] - 104s 7s/step - loss: 0.0023 - acc: 1.0000 - val_loss: 4.9391 - val_acc: 0.6094\n",
            "Epoch 28/50\n",
            "16/16 [==============================] - 111s 7s/step - loss: 0.0011 - acc: 1.0000 - val_loss: 4.9761 - val_acc: 0.6250\n",
            "Epoch 29/50\n",
            "16/16 [==============================] - 106s 7s/step - loss: 6.9725e-04 - acc: 1.0000 - val_loss: 4.9966 - val_acc: 0.6328\n",
            "Epoch 30/50\n",
            "16/16 [==============================] - 113s 7s/step - loss: 5.1186e-04 - acc: 1.0000 - val_loss: 5.0255 - val_acc: 0.6328\n",
            "Epoch 31/50\n",
            "16/16 [==============================] - 105s 7s/step - loss: 4.6608e-04 - acc: 1.0000 - val_loss: 5.0609 - val_acc: 0.6406\n",
            "Epoch 32/50\n",
            "16/16 [==============================] - 108s 7s/step - loss: 2.9443e-04 - acc: 1.0000 - val_loss: 5.0783 - val_acc: 0.6406\n",
            "Epoch 33/50\n",
            "16/16 [==============================] - 105s 7s/step - loss: 2.4943e-04 - acc: 1.0000 - val_loss: 5.1055 - val_acc: 0.6328\n",
            "Epoch 34/50\n",
            "16/16 [==============================] - 106s 7s/step - loss: 2.6036e-04 - acc: 1.0000 - val_loss: 5.1313 - val_acc: 0.6328\n",
            "Epoch 35/50\n",
            "16/16 [==============================] - 104s 7s/step - loss: 3.4402e-04 - acc: 1.0000 - val_loss: 5.1774 - val_acc: 0.6172\n",
            "Epoch 36/50\n",
            "16/16 [==============================] - 106s 7s/step - loss: 2.4768e-04 - acc: 1.0000 - val_loss: 5.2088 - val_acc: 0.6172\n",
            "Epoch 37/50\n",
            "16/16 [==============================] - 104s 7s/step - loss: 2.8970e-04 - acc: 1.0000 - val_loss: 5.2446 - val_acc: 0.6250\n",
            "Epoch 38/50\n",
            " 9/16 [===============>..............] - ETA: 44s - loss: 1.8888e-04 - acc: 1.0000"
          ]
        }
      ]
    },
    {
      "cell_type": "code",
      "source": [
        "keras.utils.plot_model(model, to_file='model.png')"
      ],
      "metadata": {
        "id": "EDqAOCEiEo_0"
      },
      "execution_count": null,
      "outputs": []
    },
    {
      "cell_type": "code",
      "source": [
        "def plot_loss_accuracy(history):\n",
        "    historydf = pd.DataFrame(history.history, index=history.epoch)\n",
        "    plt.figure(figsize=(8, 6))\n",
        "    historydf.plot(ylim=(0, max(1, historydf.values.max())))\n",
        "    loss = history.history['loss'][-1]\n",
        "    acc = history.history['accuracy'][-1]\n",
        "    plt.title('Loss: %.3f, Accuracy: %.3f' % (loss, acc))\n",
        "    \n",
        "plot_loss_accuracy(history)"
      ],
      "metadata": {
        "id": "Hf2s1eNAD3E9"
      },
      "execution_count": null,
      "outputs": []
    },
    {
      "cell_type": "code",
      "source": [
        "# \n",
        "plt.plot(history.history['acc'])\n",
        "plt.plot(history.history['val_acc'])\n",
        "plt.title('Model accuracy')\n",
        "plt.ylabel('Accuracy')\n",
        "plt.xlabel('Epoch')\n",
        "plt.legend(['Train', 'Val'], loc='upper left')\n",
        "plt.show()\n",
        "\n",
        "# \n",
        "plt.plot(history.history['loss'])\n",
        "plt.plot(history.history['val_loss'])\n",
        "plt.title('Model loss')\n",
        "plt.ylabel('Loss')\n",
        "plt.xlabel('Epoch')\n",
        "plt.legend(['Train', 'Val'], loc='upper left')\n",
        "plt.show()"
      ],
      "metadata": {
        "colab": {
          "base_uri": "https://localhost:8080/",
          "height": 573
        },
        "id": "aNjMeQcjhkUV",
        "outputId": "8835f43b-7f3e-48ce-df19-f2315cb14fda"
      },
      "execution_count": 23,
      "outputs": [
        {
          "output_type": "display_data",
          "data": {
            "text/plain": [
              "<Figure size 432x288 with 1 Axes>"
            ],
            "image/png": "[encoded data removed]"
          },
          "metadata": {
            "needs_background": "light"
          }
        },
        {
          "output_type": "display_data",
          "data": {
            "text/plain": [
              "<Figure size 432x288 with 1 Axes>"
            ],
            "image/png": "[encoded data removed]"
          },
          "metadata": {
            "needs_background": "light"
          }
        }
      ]
    },
    {
      "cell_type": "code",
      "source": [
        "# Display the model's architecture\n",
        "model.summary()"
      ],
      "metadata": {
        "colab": {
          "base_uri": "https://localhost:8080/"
        },
        "id": "pLZjV7cS1an1",
        "outputId": "1be65d43-cc1b-4a9a-d846-f8dc312831e6"
      },
      "execution_count": 24,
      "outputs": [
        {
          "output_type": "stream",
          "name": "stdout",
          "text": [
            "Model: \"sequential_3\"\n",
            "_________________________________________________________________\n",
            " Layer (type)                Output Shape              Param #   \n",
            "=================================================================\n",
            " conv2d_12 (Conv2D)          (None, 98, 98, 32)        320       \n",
            "                                                                 \n",
            " conv2d_13 (Conv2D)          (None, 96, 96, 64)        18496     \n",
            "                                                                 \n",
            " dropout_6 (Dropout)         (None, 96, 96, 64)        0         \n",
            "                                                                 \n",
            " conv2d_14 (Conv2D)          (None, 94, 94, 128)       73856     \n",
            "                                                                 \n",
            " max_pooling2d_3 (MaxPooling  (None, 47, 47, 128)      0         \n",
            " 2D)                                                             \n",
            "                                                                 \n",
            " dropout_7 (Dropout)         (None, 47, 47, 128)       0         \n",
            "                                                                 \n",
            " conv2d_15 (Conv2D)          (None, 45, 45, 256)       295168    \n",
            "                                                                 \n",
            " flatten_3 (Flatten)         (None, 518400)            0         \n",
            "                                                                 \n",
            " dense_3 (Dense)             (None, 12)                6220812   \n",
            "                                                                 \n",
            "=================================================================\n",
            "Total params: 6,608,652\n",
            "Trainable params: 6,608,652\n",
            "Non-trainable params: 0\n",
            "_________________________________________________________________\n"
          ]
        }
      ]
    },
    {
      "cell_type": "code",
      "source": [
        "!pip install pyyaml h5py  # Required to save models in HDF5 format\n",
        "model.save('/content/drive/MyDrive/Colab Notebooks/project/model_forweb.h5')\n",
        "model.save_weights('/content/drive/MyDrive/Colab Notebooks/project/model_weights_forweb.h5')\n",
        "\n",
        "# 將模型匯出至 JSON（不含參數）\n",
        "# json_string = model.to_json()"
      ],
      "metadata": {
        "colab": {
          "base_uri": "https://localhost:8080/"
        },
        "id": "7rSOq8d3q2mY",
        "outputId": "25620f25-9a2f-4699-90c4-41d7e9b5c735"
      },
      "execution_count": 25,
      "outputs": [
        {
          "output_type": "stream",
          "name": "stdout",
          "text": [
            "Looking in indexes: https://pypi.org/simple, https://us-python.pkg.dev/colab-wheels/public/simple/\n",
            "Requirement already satisfied: pyyaml in /usr/local/lib/python3.8/dist-packages (6.0)\n",
            "Requirement already satisfied: h5py in /usr/local/lib/python3.8/dist-packages (3.1.0)\n",
            "Requirement already satisfied: numpy>=1.17.5 in /usr/local/lib/python3.8/dist-packages (from h5py) (1.21.6)\n"
          ]
        }
      ]
    }
  ],
  "metadata": {
    "kernelspec": {
      "display_name": "Python 3",
      "language": "python",
      "name": "python3"
    },
    "language_info": {
      "codemirror_mode": {
        "name": "ipython",
        "version": 3
      },
      "file_extension": ".py",
      "mimetype": "text/x-python",
      "name": "python",
      "nbconvert_exporter": "python",
      "pygments_lexer": "ipython3",
      "version": "3.11.0"
    },
    "orig_nbformat": 4,
    "vscode": {
      "interpreter": {
        "hash": "574df64408e4635801aa20724f5bd67158dcc0405c62728fda99f99539c35838"
      }
    },
    "colab": {
      "provenance": []
    },
    "gpuClass": "standard"
  },
  "nbformat": 4,
  "nbformat_minor": 0
}