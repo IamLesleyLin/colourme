{
 "cells": [
  {
   "cell_type": "code",
   "execution_count": 6,
   "metadata": {},
   "outputs": [],
   "source": [
    "import requests\n",
    "from bs4 import BeautifulSoup\n",
    "import time\n",
    "import cv2\n",
    "\n",
    "url = \"https://www.adidas.com.tw/hall?tags=ADSAA03-ADSAB01-ADSAH01-ADSAE02&sortType=3&page=1&pageCount=120&priceFrom=2000&priceTo=4000\"\n",
    "\n",
    "headers = {'user-agent': 'Mozilla/5.0 (Windows NT 10.0; Win64; x64; rv:107.0) Gecko/20100101 Firefox/107.0'}\n",
    "\n",
    "re = requests.get(url, headers=headers) \n",
    "re.encoding = 'utf-8'\n",
    "\n",
    "soup = BeautifulSoup(re.text, 'html.parser')"
   ]
  },
  {
   "cell_type": "code",
   "execution_count": null,
   "metadata": {},
   "outputs": [],
   "source": [
    "#print(re.text)"
   ]
  },
  {
   "cell_type": "code",
   "execution_count": null,
   "metadata": {},
   "outputs": [],
   "source": [
    "imageData = soup.select('.product-img-box img') \n",
    "#print(imageData)\n",
    "#print(len(imageData))"
   ]
  },
  {
   "cell_type": "code",
   "execution_count": 35,
   "metadata": {},
   "outputs": [
    {
     "name": "stdout",
     "output_type": "stream",
     "text": [
      "['https://images.adidas.com.tw/57/imageQC2000059257_2000_1.jpg', 'https://images.adidas.com.tw/46/imageQC2000059246_2000_1.jpg', 'https://images.adidas.com.tw/55/imageQC2000059155_2000_1.jpg', 'https://images.adidas.com.tw/90/imageQC2000029290_2000_1.jpg', 'https://images.adidas.com.tw/59/imageQC2000052459_2000_1.jpg', 'https://images.adidas.com.tw/15/imageQC2000056115_2000_1.jpg', 'https://images.adidas.com.tw/22/imageQC2000056022_2000_1.jpg', 'https://images.adidas.com.tw/70/imageQC2000054870_2000_1.jpg', 'https://images.adidas.com.tw/04/imageQC2000055104_2000_1.jpg', 'https://images.adidas.com.tw/76/imageQC2000055076_2000_1.jpg', 'https://images.adidas.com.tw/07/imageQC2000054907_2000_1.jpg', 'https://images.adidas.com.tw/04/imageQC2000054804_2000_1.jpg', 'https://images.adidas.com.tw/31/imageQC2000052431_2000_1.jpg', 'https://images.adidas.com.tw/13/imageQC2000052413_2000_1.jpg', 'https://images.adidas.com.tw/65/imageQC2000052365_2000_1.jpg', 'https://images.adidas.com.tw/96/imageQC2000052096_2000_1.jpg', 'https://images.adidas.com.tw/84/imageQC2000051684_2000_1.jpg', 'https://images.adidas.com.tw/51/imageQC2000056151_2000_1.jpg', 'https://images.adidas.com.tw/21/imageQC2000049821_2000_1.jpg', 'https://images.adidas.com.tw/43/imageQC2000049743_2000_1.jpg', 'https://images.adidas.com.tw/23/imageQC2000047923_2000_1.jpg', 'https://images.adidas.com.tw/05/imageQC2000047905_2000_1.jpg', 'https://images.adidas.com.tw/80/imageQC2000047780_2000_1.jpg', 'https://images.adidas.com.tw/45/imageQC2000047745_2000_1.jpg', 'https://images.adidas.com.tw/07/imageQC2000047707_2000_1.jpg', 'https://images.adidas.com.tw/59/imageQC2000047259_2000_1.jpg', 'https://images.adidas.com.tw/77/imageQC2000047177_2000_1.jpg', 'https://images.adidas.com.tw/55/imageQC2000047155_2000_1.jpg', 'https://images.adidas.com.tw/37/imageQC2000047137_2000_1.jpg', 'https://images.adidas.com.tw/81/imageQC2000047081_2000_1.jpg', 'https://images.adidas.com.tw/00/imageQC2000047000_2000_1.jpg', 'https://images.adidas.com.tw/27/imageQC2000043727_2000_1.jpg', 'https://images.adidas.com.tw/19/imageQC2000043619_2000_1.jpg', 'https://images.adidas.com.tw/16/imageQC2000040616_2000_1.jpg', 'https://images.adidas.com.tw/02/imageQC2000040602_2000_1.jpg', 'https://images.adidas.com.tw/87/imageQC2000040587_2000_1.jpg', 'https://images.adidas.com.tw/37/imageQC2000037237_2000_1.jpg', 'https://images.adidas.com.tw/57/imageQC2000035857_2000_1.jpg', 'https://images.adidas.com.tw/92/imageQC2000035392_2000_1.jpg', 'https://images.adidas.com.tw/22/imageQC2000035222_2000_1.jpg', 'https://images.adidas.com.tw/73/imageQC2000035173_2000_1.jpg', 'https://images.adidas.com.tw/78/imageQC2000048678_2000_1.jpg', 'https://images.adidas.com.tw/48/imageQC2000033648_2000_1.jpg', 'https://images.adidas.com.tw/08/imageQC2000033508_2000_1.jpg', 'https://images.adidas.com.tw/14/imageQC2000033414_2000_1.jpg', 'https://images.adidas.com.tw/78/imageQC2000033378_2000_1.jpg', 'https://images.adidas.com.tw/75/imageQC2000032175_2000_1.jpg', 'https://images.adidas.com.tw/41/imageQC2000032041_2000_1.jpg', 'https://images.adidas.com.tw/21/imageQC2000031221_2000_1.jpg', 'https://images.adidas.com.tw/63/imageQC2000031163_2000_1.jpg', 'https://images.adidas.com.tw/85/imageQC2000030985_2000_1.jpg', 'https://images.adidas.com.tw/90/imageQC2000030890_2000_1.jpg', 'https://images.adidas.com.tw/74/imageQC2000030874_2000_1.jpg', 'https://images.adidas.com.tw/66/imageQC2000030766_2000_1.jpg', 'https://images.adidas.com.tw/04/imageQC2000027104_2000_1.jpg', 'https://images.adidas.com.tw/60/imageQC2000026960_2000_1.jpg', 'https://images.adidas.com.tw/79/imageQC2000026679_2000_1.jpg', 'https://images.adidas.com.tw/08/imageQC2000026608_2000_1.jpg', 'https://images.adidas.com.tw/90/imageQC2000026590_2000_1.jpg', 'https://images.adidas.com.tw/90/imageQC2000026390_2000_1.jpg', 'https://images.adidas.com.tw/91/imageQC2000026291_2000_1.jpg', 'https://images.adidas.com.tw/72/imageQC2000026272_2000_1.jpg', 'https://images.adidas.com.tw/81/imageQC2000024781_2000_1.jpg', 'https://images.adidas.com.tw/31/imageQC2000005131_2000_1.jpg', 'https://images.adidas.com.tw/19/imageQC2000037319_2000_1.jpg', 'https://images.adidas.com.tw/86/imageQC2000020786_2000_1.jpg', 'https://images.adidas.com.tw/80/imageQC2000020480_2000_1.jpg', 'https://images.adidas.com.tw/92/imageQC2000020392_2000_1.jpg', 'https://images.adidas.com.tw/79/imageQC2000017879_2000_1.jpg', 'https://images.adidas.com.tw/68/imageQC2000016368_2000_1.jpg', 'https://images.adidas.com.tw/44/imageQC2000016344_2000_1.jpg', 'https://images.adidas.com.tw/55/imageQC2000015255_2000_1.jpg', 'https://images.adidas.com.tw/35/imageQC2000015035_2000_1.jpg', 'https://images.adidas.com.tw/31/imageQC28942631_2000_1.jpg', 'https://images.adidas.com.tw/84/imageQC2000012584_2000_1.jpg', 'https://images.adidas.com.tw/03/imageQC2000011303_2000_1.jpg', 'https://images.adidas.com.tw/71/imageQC2000010071_2000_1.jpg', 'https://images.adidas.com.tw/18/imageQC2000005418_2000_1.jpg', 'https://images.adidas.com.tw/47/imageQC2000005147_2000_1.jpg', 'https://images.adidas.com.tw/88/imageQC2000005088_2000_1.jpg', 'https://images.adidas.com.tw/79/imageQC28980179_2000_1.jpg', 'https://images.adidas.com.tw/71/imageQC28973871_2000_1.jpg', 'https://images.adidas.com.tw/10/imageQC2000016210_2000_1.jpg', 'https://images.adidas.com.tw/73/imageQC28931073_2000_1.jpg', 'https://images.adidas.com.tw/41/imageQC28931041_2000_1.jpg', 'https://images.adidas.com.tw/10/imageQC28819210_2000_1.jpg', 'https://images.adidas.com.tw/65/imageQC2000015565_2000_1.jpg', 'https://images.adidas.com.tw/68/imageQC28706368_2000_1.jpg', 'https://images.adidas.com.tw/51/imageQC28692451_2000_1.jpg', 'https://images.adidas.com.tw/50/imageQC28798550_2000_1.jpg', 'https://images.adidas.com.tw/23/imageQC28543223_2000_1.jpg', 'https://images.adidas.com.tw/94/imageQC28531394_2000_1.jpg', 'https://images.adidas.com.tw/04/imageQC28531104_2000_1.jpg']\n"
     ]
    }
   ],
   "source": [
    "imgURL = []\n",
    "\n",
    "for i in range(len(imageData)):\n",
    "    imgURL.insert(i,imageData[i].attrs[\"data-original\"])\n",
    "        \n",
    "print(imgURL)\n",
    "#print(len(imgURL))"
   ]
  },
  {
   "cell_type": "code",
   "execution_count": 9,
   "metadata": {},
   "outputs": [],
   "source": [
    "a = soup.select('.product-img-box a') #.product-img-nav-list.active有重複的資料且[\"data-lazy\"]行不通\n",
    "#print(a)\n",
    "#print(len(a))"
   ]
  },
  {
   "cell_type": "code",
   "execution_count": 15,
   "metadata": {},
   "outputs": [
    {
     "name": "stdout",
     "output_type": "stream",
     "text": [
      "['50237232/GY4656', '50237188/H03424', '50236824/HP5501', '50224852/GZ5230', '50224804/GW2012', '50224644/GX7330', '50224272/GY2505', '50221810/HQ8874', '50220604/HP6697', '50220480/HP6699', '50219804/HR1481', '50219392/GY4559', '50209912/GX2214', '50209824/GX2215', '50209624/HP9845', '50208548/HP8021', '50206900/FZ5594', '50200284/GW4354', '50199466/GX9507', '50199158/GX4582', '50191896/HP5580', '50191824/HP5587', '50191324/HP5498', '50191184/HP7833', '50191032/HP5578', '50189240/GW9367', '50188936/GY7005', '50188848/GY7006', '50188752/GX9513', '50188528/GW9358', '50188204/GX7087', '50175146/GX9406', '50174718/GY4586', '50162782/FZ6154', '50162730/FZ6153', '50162666/FZ6152', '50149300/GW0490', '50143776/HP5500', '50141920/GW6776', '50141244/GW9354', '50141060/HQ6334', '50139956/GZ6422', '50135218/GZ1893', '50134654/GZ2204', '50134278/GZ1604', '50134130/GZ1603', '50129334/GY0362', '50128810/GW3958', '50125546/GW0562', '50125266/GX6320', '50124546/GX6390', '50124206/GV9116', '50124110/GX6394', '50123670/GX2179', '50108918/GY6697', '50108338/GY6067', '50107234/GV7608', '50106926/GV7610', '50106854/GV7615', '50106054/GW9740', '50105662/GW5473', '50105582/GW5472', '50099592/GW0559', '50099400/GZ5231', '50083926/GW0488', '50083566/GY6058', '50082382/GY1034', '50081990/GY6162', '50071910/GW8062', '50065874/GZ9258', '50065774/GZ9261', '50061372/GW3965', '50060496/GX8878', '50050762/FY4976', '50050682/FY7755', '50045548/S24146', '50040624/GY2630', '50021932/GV7685', '50020848/H04251', '50020620/H04250', '36250177/GX0544', '36224619/FX5502', '36137338/G27707', '36047054/FZ3201', '36046926/FX5501', '35571967/EG4960', '35571531/EG4958', '35095922/CQ2405', '35042465/G27706', '34572639/S75104', '34484696/M20325', '34440738/CQ2406', '34439578/M20324']\n"
     ]
    }
   ],
   "source": [
    "imgID = []\n",
    "\n",
    "for j in range(len(a)):\n",
    "    imgID.insert(j,a[j].attrs[\"href\"].lstrip('/product/')) \n",
    "        \n",
    "#print(imgID)\n",
    "#print(len(imgID))"
   ]
  },
  {
   "cell_type": "code",
   "execution_count": 17,
   "metadata": {},
   "outputs": [
    {
     "name": "stdout",
     "output_type": "stream",
     "text": [
      "['50237232', '50237188', '50236824', '50224852', '50224804', '50224644', '50224272', '50221810', '50220604', '50220480', '50219804', '50219392', '50209912', '50209824', '50209624', '50208548', '50206900', '50200284', '50199466', '50199158', '50191896', '50191824', '50191324', '50191184', '50191032', '50189240', '50188936', '50188848', '50188752', '50188528', '50188204', '50175146', '50174718', '50162782', '50162730', '50162666', '50149300', '50143776', '50141920', '50141244', '50141060', '50139956', '50135218', '50134654', '50134278', '50134130', '50129334', '50128810', '50125546', '50125266', '50124546', '50124206', '50124110', '50123670', '50108918', '50108338', '50107234', '50106926', '50106854', '50106054', '50105662', '50105582', '50099592', '50099400', '50083926', '50083566', '50082382', '50081990', '50071910', '50065874', '50065774', '50061372', '50060496', '50050762', '50050682', '50045548', '50040624', '50021932', '50020848', '50020620', '36250177', '36224619', '36137338', '36047054', '36046926', '35571967', '35571531', '35095922', '35042465', '34572639', '34484696', '34440738', '34439578']\n"
     ]
    }
   ],
   "source": [
    "productID = []\n",
    "\n",
    "for k in range(len(imgID)):\n",
    "    productID.insert(k,imgID[k][0:8]) \n",
    "\n",
    "#print(productID)"
   ]
  },
  {
   "cell_type": "code",
   "execution_count": 19,
   "metadata": {},
   "outputs": [
    {
     "name": "stdout",
     "output_type": "stream",
     "text": [
      "['GY4656', 'H03424', 'HP5501', 'GZ5230', 'GW2012', 'GX7330', 'GY2505', 'HQ8874', 'HP6697', 'HP6699', 'HR1481', 'GY4559', 'GX2214', 'GX2215', 'HP9845', 'HP8021', 'FZ5594', 'GW4354', 'GX9507', 'GX4582', 'HP5580', 'HP5587', 'HP5498', 'HP7833', 'HP5578', 'GW9367', 'GY7005', 'GY7006', 'GX9513', 'GW9358', 'GX7087', 'GX9406', 'GY4586', 'FZ6154', 'FZ6153', 'FZ6152', 'GW0490', 'HP5500', 'GW6776', 'GW9354', 'HQ6334', 'GZ6422', 'GZ1893', 'GZ2204', 'GZ1604', 'GZ1603', 'GY0362', 'GW3958', 'GW0562', 'GX6320', 'GX6390', 'GV9116', 'GX6394', 'GX2179', 'GY6697', 'GY6067', 'GV7608', 'GV7610', 'GV7615', 'GW9740', 'GW5473', 'GW5472', 'GW0559', 'GZ5231', 'GW0488', 'GY6058', 'GY1034', 'GY6162', 'GW8062', 'GZ9258', 'GZ9261', 'GW3965', 'GX8878', 'FY4976', 'FY7755', 'S24146', 'GY2630', 'GV7685', 'H04251', 'H04250', 'GX0544', 'FX5502', 'G27707', 'FZ3201', 'FX5501', 'EG4960', 'EG4958', 'CQ2405', 'G27706', 'S75104', 'M20325', 'CQ2406', 'M20324']\n"
     ]
    }
   ],
   "source": [
    "colorID = []\n",
    "\n",
    "for l in range(len(imgID)):\n",
    "    colorID.insert(l,imgID[l][9:15]) \n",
    "\n",
    "#print(colorID)"
   ]
  },
  {
   "cell_type": "code",
   "execution_count": 22,
   "metadata": {},
   "outputs": [],
   "source": [
    "import pandas as pd\n",
    "\n",
    "df = pd.DataFrame({'productID':productID, 'colorID':colorID, 'imgURL':imgURL})"
   ]
  },
  {
   "cell_type": "code",
   "execution_count": 25,
   "metadata": {},
   "outputs": [
    {
     "name": "stdout",
     "output_type": "stream",
     "text": [
      "   productID colorID                                             imgURL\n",
      "0   50237232  GY4656  https://images.adidas.com.tw/57/imageQC2000059...\n",
      "1   50237188  H03424  https://images.adidas.com.tw/46/imageQC2000059...\n",
      "2   50236824  HP5501  https://images.adidas.com.tw/55/imageQC2000059...\n",
      "3   50224852  GZ5230  https://images.adidas.com.tw/90/imageQC2000029...\n",
      "4   50224804  GW2012  https://images.adidas.com.tw/59/imageQC2000052...\n",
      "5   50224644  GX7330  https://images.adidas.com.tw/15/imageQC2000056...\n",
      "6   50224272  GY2505  https://images.adidas.com.tw/22/imageQC2000056...\n",
      "7   50221810  HQ8874  https://images.adidas.com.tw/70/imageQC2000054...\n",
      "8   50220604  HP6697  https://images.adidas.com.tw/04/imageQC2000055...\n",
      "9   50220480  HP6699  https://images.adidas.com.tw/76/imageQC2000055...\n",
      "10  50219804  HR1481  https://images.adidas.com.tw/07/imageQC2000054...\n",
      "11  50219392  GY4559  https://images.adidas.com.tw/04/imageQC2000054...\n",
      "12  50209912  GX2214  https://images.adidas.com.tw/31/imageQC2000052...\n",
      "13  50209824  GX2215  https://images.adidas.com.tw/13/imageQC2000052...\n",
      "14  50209624  HP9845  https://images.adidas.com.tw/65/imageQC2000052...\n",
      "15  50208548  HP8021  https://images.adidas.com.tw/96/imageQC2000052...\n",
      "16  50206900  FZ5594  https://images.adidas.com.tw/84/imageQC2000051...\n",
      "17  50200284  GW4354  https://images.adidas.com.tw/51/imageQC2000056...\n",
      "18  50199466  GX9507  https://images.adidas.com.tw/21/imageQC2000049...\n",
      "19  50199158  GX4582  https://images.adidas.com.tw/43/imageQC2000049...\n",
      "20  50191896  HP5580  https://images.adidas.com.tw/23/imageQC2000047...\n",
      "21  50191824  HP5587  https://images.adidas.com.tw/05/imageQC2000047...\n",
      "22  50191324  HP5498  https://images.adidas.com.tw/80/imageQC2000047...\n",
      "23  50191184  HP7833  https://images.adidas.com.tw/45/imageQC2000047...\n",
      "24  50191032  HP5578  https://images.adidas.com.tw/07/imageQC2000047...\n",
      "25  50189240  GW9367  https://images.adidas.com.tw/59/imageQC2000047...\n",
      "26  50188936  GY7005  https://images.adidas.com.tw/77/imageQC2000047...\n",
      "27  50188848  GY7006  https://images.adidas.com.tw/55/imageQC2000047...\n",
      "28  50188752  GX9513  https://images.adidas.com.tw/37/imageQC2000047...\n",
      "29  50188528  GW9358  https://images.adidas.com.tw/81/imageQC2000047...\n",
      "30  50188204  GX7087  https://images.adidas.com.tw/00/imageQC2000047...\n",
      "31  50175146  GX9406  https://images.adidas.com.tw/27/imageQC2000043...\n",
      "32  50174718  GY4586  https://images.adidas.com.tw/19/imageQC2000043...\n",
      "33  50162782  FZ6154  https://images.adidas.com.tw/16/imageQC2000040...\n",
      "34  50162730  FZ6153  https://images.adidas.com.tw/02/imageQC2000040...\n",
      "35  50162666  FZ6152  https://images.adidas.com.tw/87/imageQC2000040...\n",
      "36  50149300  GW0490  https://images.adidas.com.tw/37/imageQC2000037...\n",
      "37  50143776  HP5500  https://images.adidas.com.tw/57/imageQC2000035...\n",
      "38  50141920  GW6776  https://images.adidas.com.tw/92/imageQC2000035...\n",
      "39  50141244  GW9354  https://images.adidas.com.tw/22/imageQC2000035...\n",
      "40  50141060  HQ6334  https://images.adidas.com.tw/73/imageQC2000035...\n",
      "41  50139956  GZ6422  https://images.adidas.com.tw/78/imageQC2000048...\n",
      "42  50135218  GZ1893  https://images.adidas.com.tw/48/imageQC2000033...\n",
      "43  50134654  GZ2204  https://images.adidas.com.tw/08/imageQC2000033...\n",
      "44  50134278  GZ1604  https://images.adidas.com.tw/14/imageQC2000033...\n",
      "45  50134130  GZ1603  https://images.adidas.com.tw/78/imageQC2000033...\n",
      "46  50129334  GY0362  https://images.adidas.com.tw/75/imageQC2000032...\n",
      "47  50128810  GW3958  https://images.adidas.com.tw/41/imageQC2000032...\n",
      "48  50125546  GW0562  https://images.adidas.com.tw/21/imageQC2000031...\n",
      "49  50125266  GX6320  https://images.adidas.com.tw/63/imageQC2000031...\n",
      "50  50124546  GX6390  https://images.adidas.com.tw/85/imageQC2000030...\n"
     ]
    }
   ],
   "source": [
    "df_50 = df.drop(df.index[51:93], axis=0)\n",
    "print(df_50)"
   ]
  },
  {
   "cell_type": "code",
   "execution_count": 26,
   "metadata": {},
   "outputs": [],
   "source": [
    "df_50.to_csv('df_50.csv',index = None, encoding = 'utf8')"
   ]
  }
 ],
 "metadata": {
  "kernelspec": {
   "display_name": "Python 3.11.0 64-bit",
   "language": "python",
   "name": "python3"
  },
  "language_info": {
   "codemirror_mode": {
    "name": "ipython",
    "version": 3
   },
   "file_extension": ".py",
   "mimetype": "text/x-python",
   "name": "python",
   "nbconvert_exporter": "python",
   "pygments_lexer": "ipython3",
   "version": "3.11.0"
  },
  "orig_nbformat": 4,
  "vscode": {
   "interpreter": {
    "hash": "574df64408e4635801aa20724f5bd67158dcc0405c62728fda99f99539c35838"
   }
  }
 },
 "nbformat": 4,
 "nbformat_minor": 2
}
