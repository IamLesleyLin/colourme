{
 "cells": [
  {
   "cell_type": "code",
   "execution_count": 2,
   "metadata": {},
   "outputs": [],
   "source": [
    "import requests\n",
    "from bs4 import BeautifulSoup\n",
    "import time\n",
    "import cv2\n",
    "\n",
    "url = \"https://www.adidas.com.tw/hall?tags=ADSAA03-ADSAB01-ADSAH01-ADSAE02&sortType=3&page=1&pageCount=120&priceFrom=2000&priceTo=4000\"\n",
    "\n",
    "headers = {'user-agent': 'Mozilla/5.0 (Windows NT 10.0; Win64; x64; rv:107.0) Gecko/20100101 Firefox/107.0'}\n",
    "\n",
    "re = requests.get(url, headers=headers) \n",
    "re.encoding = 'utf-8'\n",
    "\n",
    "soup = BeautifulSoup(re.text, 'html.parser')"
   ]
  },
  {
   "cell_type": "code",
   "execution_count": 36,
   "metadata": {},
   "outputs": [],
   "source": [
    "imageData = soup.select('.product-img-box img') "
   ]
  },
  {
   "cell_type": "code",
   "execution_count": 4,
   "metadata": {},
   "outputs": [],
   "source": [
    "imgURL = []\n",
    "\n",
    "for i in range(len(imageData)):\n",
    "    imgURL.insert(i,imageData[i].attrs[\"data-original\"])\n"
   ]
  },
  {
   "cell_type": "code",
   "execution_count": 5,
   "metadata": {},
   "outputs": [],
   "source": [
    "a = soup.select('.product-img-box a') "
   ]
  },
  {
   "cell_type": "code",
   "execution_count": 6,
   "metadata": {},
   "outputs": [],
   "source": [
    "imgID = []\n",
    "\n",
    "for j in range(len(a)):\n",
    "    imgID.insert(j,a[j].attrs[\"href\"].lstrip('/product/')) "
   ]
  },
  {
   "cell_type": "code",
   "execution_count": 7,
   "metadata": {},
   "outputs": [],
   "source": [
    "productID = []\n",
    "\n",
    "for k in range(len(imgID)):\n",
    "    productID.insert(k,imgID[k][0:8]) "
   ]
  },
  {
   "cell_type": "code",
   "execution_count": 8,
   "metadata": {},
   "outputs": [],
   "source": [
    "colorID = []\n",
    "\n",
    "for l in range(len(imgID)):\n",
    "    colorID.insert(l,imgID[l][9:15]) "
   ]
  },
  {
   "cell_type": "code",
   "execution_count": 51,
   "metadata": {},
   "outputs": [],
   "source": [
    "productname = soup.findAll(\"span\", {\"class\":\"product-name\"})"
   ]
  },
  {
   "cell_type": "code",
   "execution_count": 55,
   "metadata": {},
   "outputs": [],
   "source": [
    "name = []\n",
    "for x in productname:\n",
    "    name.append(x.get_text())"
   ]
  },
  {
   "cell_type": "code",
   "execution_count": 57,
   "metadata": {},
   "outputs": [],
   "source": [
    "import pandas as pd\n",
    "df = pd.DataFrame({'name':name,'productID':productID, 'colorID':colorID, 'imgURL':imgURL})"
   ]
  },
  {
   "cell_type": "code",
   "execution_count": 65,
   "metadata": {},
   "outputs": [],
   "source": [
    "derow = df.loc[df['colorID'].isin(['GY2505', 'HQ8874','HP6697','HP6699','HP5580','GX9507','HP5587','HP5578','GX9513','HP4316','GX2089','GZ1893','GZ2204','GX6390','GX6394','GX2179','FX5502','EG4960','EG4958']) ]\n"
   ]
  },
  {
   "cell_type": "code",
   "execution_count": 67,
   "metadata": {},
   "outputs": [],
   "source": [
    "df = df.drop(derow.index)"
   ]
  },
  {
   "cell_type": "code",
   "execution_count": 79,
   "metadata": {},
   "outputs": [],
   "source": [
    "df_50 = df[0:50]"
   ]
  },
  {
   "cell_type": "code",
   "execution_count": 83,
   "metadata": {},
   "outputs": [],
   "source": [
    "df_50.to_csv('df_50.csv',index = None, encoding = 'utf8')"
   ]
  },
  {
   "cell_type": "code",
   "execution_count": 68,
   "metadata": {},
   "outputs": [],
   "source": [
    "dfdrop = df.drop_duplicates(subset=['name'], keep=\"first\")"
   ]
  },
  {
   "cell_type": "code",
   "execution_count": 84,
   "metadata": {},
   "outputs": [],
   "source": [
    "dfdrop.to_csv('dfdrop.csv',index = None, encoding = 'utf8')"
   ]
  }
 ],
 "metadata": {
  "kernelspec": {
   "display_name": "Python 3.11.0 64-bit",
   "language": "python",
   "name": "python3"
  },
  "language_info": {
   "codemirror_mode": {
    "name": "ipython",
    "version": 3
   },
   "file_extension": ".py",
   "mimetype": "text/x-python",
   "name": "python",
   "nbconvert_exporter": "python",
   "pygments_lexer": "ipython3",
   "version": "3.11.0"
  },
  "orig_nbformat": 4,
  "vscode": {
   "interpreter": {
    "hash": "574df64408e4635801aa20724f5bd67158dcc0405c62728fda99f99539c35838"
   }
  }
 },
 "nbformat": 4,
 "nbformat_minor": 2
}
