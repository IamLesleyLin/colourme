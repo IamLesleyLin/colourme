{
 "cells": [
  {
   "cell_type": "code",
   "execution_count": 1,
   "metadata": {},
   "outputs": [],
   "source": [
    "import pandas as pd\n",
    "\n",
    "df = pd.read_csv('./df_50.csv')\n",
    "#print(df)"
   ]
  },
  {
   "cell_type": "code",
   "execution_count": 20,
   "metadata": {},
   "outputs": [
    {
     "data": {
      "text/plain": [
       "50"
      ]
     },
     "execution_count": 20,
     "metadata": {},
     "output_type": "execute_result"
    }
   ],
   "source": [
    "#len(set(df['colorID']))"
   ]
  },
  {
   "cell_type": "code",
   "execution_count": 2,
   "metadata": {},
   "outputs": [],
   "source": [
    "import numpy as np\n",
    "import time\n",
    "import cv2\n",
    "import urllib\n",
    "\n",
    "imgGraySmall = []\n",
    "\n",
    "for m in range(len(df['imgURL'])):\n",
    "    res = urllib.request.urlopen(df['imgURL'][m])\n",
    "    i = np.asarray(bytearray(res.read()), dtype=\"uint8\")\n",
    "    imgGray = cv2.imdecode(i, cv2.IMREAD_GRAYSCALE)\n",
    "    imgResize = cv2.resize(imgGray, (100, 100), interpolation=cv2.INTER_AREA)\n",
    "    imgGraySmall.insert(m,imgResize)\n",
    "    time.sleep(1)"
   ]
  },
  {
   "cell_type": "code",
   "execution_count": 61,
   "metadata": {},
   "outputs": [
    {
     "name": "stdout",
     "output_type": "stream",
     "text": [
      "50\n"
     ]
    }
   ],
   "source": [
    "#print (imgGraySmall)\n",
    "print (len(imgGraySmall))"
   ]
  },
  {
   "cell_type": "code",
   "execution_count": 22,
   "metadata": {},
   "outputs": [],
   "source": [
    "#for a in range():\n",
    "#     cv2.imwrite(\"./img/{}.jpg\".format(df.loc[a, \"colorID\"]), imgGraySmall[a])"
   ]
  },
  {
   "cell_type": "code",
   "execution_count": 4,
   "metadata": {},
   "outputs": [
    {
     "name": "stdout",
     "output_type": "stream",
     "text": [
      "200\n",
      "400\n",
      "800\n"
     ]
    }
   ],
   "source": [
    "tfR = []\n",
    "for n in range(len(imgGraySmall)): \n",
    "    img90 = cv2.rotate(imgGraySmall[n], cv2.ROTATE_90_CLOCKWISE)\n",
    "    img180 = cv2.rotate(imgGraySmall[n], cv2.ROTATE_180)\n",
    "    img270 = cv2.rotate(imgGraySmall[n], cv2.ROTATE_90_COUNTERCLOCKWISE)\n",
    "    tfR.extend([imgGraySmall[n], img90, img180, img270])\n",
    "\n",
    "tfF = []\n",
    "for o in range(len(tfR)):\n",
    "    imgUD = cv2.flip(tfR[o], 0)\n",
    "    tfF.extend([tfR[o], imgUD])        \n",
    "\n",
    "tfN = []\n",
    "for p in range(len(tfF)):\n",
    "    img_negative = 255-tfF[p]\n",
    "    tfN.extend([tfF[p], img_negative])\n",
    "\n",
    "print(len(tfR))\n",
    "print(len(tfF))\n",
    "print(len(tfN))\n"
   ]
  },
  {
   "cell_type": "code",
   "execution_count": 5,
   "metadata": {},
   "outputs": [],
   "source": [
    "#for r in range(16):\n",
    "#     cv2.imwrite(\"image{}.png\".format(r), tfN[r])"
   ]
  },
  {
   "cell_type": "code",
   "execution_count": 7,
   "metadata": {},
   "outputs": [],
   "source": [
    "import csv\n",
    "\n",
    "# 建立 csv.writer 物件\n",
    "with open('transformation.csv', 'w') as csvfile:\n",
    "    writer = csv.writer(csvfile)\n",
    "    \n",
    "    # 將列表中的每一個子列表寫入 CSV 檔案中\n",
    "    for row in tfN:\n",
    "        writer.writerow(row)"
   ]
  }
 ],
 "metadata": {
  "kernelspec": {
   "display_name": "Python 3.11.0 64-bit",
   "language": "python",
   "name": "python3"
  },
  "language_info": {
   "codemirror_mode": {
    "name": "ipython",
    "version": 3
   },
   "file_extension": ".py",
   "mimetype": "text/x-python",
   "name": "python",
   "nbconvert_exporter": "python",
   "pygments_lexer": "ipython3",
   "version": "3.11.0"
  },
  "orig_nbformat": 4,
  "vscode": {
   "interpreter": {
    "hash": "574df64408e4635801aa20724f5bd67158dcc0405c62728fda99f99539c35838"
   }
  }
 },
 "nbformat": 4,
 "nbformat_minor": 2
}
