{
 "cells": [
  {
   "cell_type": "code",
   "execution_count": 1,
   "metadata": {},
   "outputs": [],
   "source": [
    "import pandas as pd\n",
    "\n",
    "df = pd.read_csv('./df_50.csv')\n"
   ]
  },
  {
   "cell_type": "code",
   "execution_count": 2,
   "metadata": {},
   "outputs": [],
   "source": [
    "import numpy as np\n",
    "import time\n",
    "import cv2\n",
    "import urllib\n",
    "\n",
    "imgGraySmall = []\n",
    "\n",
    "for m in range(len(df['imgURL'])):\n",
    "    res = urllib.request.urlopen(df['imgURL'][m])\n",
    "    i = np.asarray(bytearray(res.read()), dtype=\"uint8\")\n",
    "    imgGray = cv2.imdecode(i, cv2.IMREAD_GRAYSCALE)\n",
    "    imgResize = cv2.resize(imgGray, (100, 100), interpolation=cv2.INTER_AREA)\n",
    "    imgGraySmall.insert(m,imgResize)\n",
    "    time.sleep(1)"
   ]
  },
  {
   "cell_type": "code",
   "execution_count": 3,
   "metadata": {},
   "outputs": [],
   "source": [
    "tfR = []\n",
    "for n in range(len(imgGraySmall)): \n",
    "    imgGraySmall[n][ imgGraySmall[n] == np.argmax(np.bincount(imgGraySmall[n].flatten()))]= 255 #找出背景最多的數字，再指定成255\n",
    "    img90 = cv2.rotate(imgGraySmall[n], cv2.ROTATE_90_CLOCKWISE)\n",
    "    img180 = cv2.rotate(imgGraySmall[n], cv2.ROTATE_180)\n",
    "    img270 = cv2.rotate(imgGraySmall[n], cv2.ROTATE_90_COUNTERCLOCKWISE)\n",
    "    tfR.extend([imgGraySmall[n], img90, img180, img270])\n",
    "\n",
    "tfF = []\n",
    "for o in range(len(tfR)):\n",
    "    imgUD = cv2.flip(tfR[o], 0)\n",
    "    tfF.extend([tfR[o], imgUD])        \n",
    "\n",
    "tfN = []\n",
    "for p in range(len(tfF)):\n",
    "    img_negative = 255-tfF[p]\n",
    "    img_negative[ img_negative == np.argmax(np.bincount(img_negative.flatten()))]= 255\n",
    "    tfN.extend([tfF[p], img_negative])"
   ]
  },
  {
   "cell_type": "code",
   "execution_count": 4,
   "metadata": {},
   "outputs": [],
   "source": [
    "flatlist = []\n",
    "for q in tfN:\n",
    "    flatlist.append(q.flatten())"
   ]
  },
  {
   "cell_type": "code",
   "execution_count": 5,
   "metadata": {},
   "outputs": [],
   "source": [
    "aaa = pd.DataFrame(flatlist).astype('uint8')"
   ]
  },
  {
   "cell_type": "code",
   "execution_count": 6,
   "metadata": {},
   "outputs": [],
   "source": [
    "namelist = []\n",
    "for r in df['productID']:\n",
    "    for s in range(16):\n",
    "        namelist.append(r)"
   ]
  },
  {
   "cell_type": "code",
   "execution_count": 7,
   "metadata": {},
   "outputs": [],
   "source": [
    "aaa.index = namelist"
   ]
  },
  {
   "cell_type": "code",
   "execution_count": 12,
   "metadata": {},
   "outputs": [],
   "source": [
    "aaa.to_csv('transformation.csv', encoding = 'utf8')"
   ]
  }
 ],
 "metadata": {
  "kernelspec": {
   "display_name": "Python 3.11.0 64-bit",
   "language": "python",
   "name": "python3"
  },
  "language_info": {
   "codemirror_mode": {
    "name": "ipython",
    "version": 3
   },
   "file_extension": ".py",
   "mimetype": "text/x-python",
   "name": "python",
   "nbconvert_exporter": "python",
   "pygments_lexer": "ipython3",
   "version": "3.11.0 (main, Oct 24 2022, 18:26:48) [MSC v.1933 64 bit (AMD64)]"
  },
  "orig_nbformat": 4,
  "vscode": {
   "interpreter": {
    "hash": "574df64408e4635801aa20724f5bd67158dcc0405c62728fda99f99539c35838"
   }
  }
 },
 "nbformat": 4,
 "nbformat_minor": 2
}
