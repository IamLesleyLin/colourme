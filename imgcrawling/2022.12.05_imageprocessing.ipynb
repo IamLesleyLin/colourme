{
 "cells": [
  {
   "cell_type": "code",
   "execution_count": 3,
   "metadata": {},
   "outputs": [],
   "source": [
    "import pandas as pd\n",
    "\n",
    "df = pd.read_csv('./df_50.csv')\n",
    "#print(df)"
   ]
  },
  {
   "cell_type": "code",
   "execution_count": 20,
   "metadata": {},
   "outputs": [
    {
     "data": {
      "text/plain": [
       "50"
      ]
     },
     "execution_count": 20,
     "metadata": {},
     "output_type": "execute_result"
    }
   ],
   "source": [
    "#len(set(df['colorID']))"
   ]
  },
  {
   "cell_type": "code",
   "execution_count": 4,
   "metadata": {},
   "outputs": [],
   "source": [
    "import numpy as np\n",
    "import time\n",
    "import cv2\n",
    "import urllib\n",
    "\n",
    "imgGraySmall = []\n",
    "\n",
    "for m in range(len(df['imgURL'])):\n",
    "    res = urllib.request.urlopen(df['imgURL'][m])\n",
    "    i = np.asarray(bytearray(res.read()), dtype=\"uint8\")\n",
    "    imgGray = cv2.imdecode(i, cv2.IMREAD_GRAYSCALE)\n",
    "    imgResize = cv2.resize(imgGray, (100, 100), interpolation=cv2.INTER_AREA)\n",
    "    imgGraySmall.insert(m,imgResize)\n",
    "    time.sleep(1)"
   ]
  },
  {
   "cell_type": "code",
   "execution_count": null,
   "metadata": {},
   "outputs": [],
   "source": [
    "#print (imgGraySmall)\n",
    "#print (len(imgGraySmall))\n",
    "\n",
    "#for a in range():\n",
    "#     cv2.imwrite(\"./img/{}.jpg\".format(df.loc[a, \"colorID\"]), imgGraySmall[a])"
   ]
  },
  {
   "cell_type": "code",
   "execution_count": 2,
   "metadata": {},
   "outputs": [
    {
     "ename": "ModuleNotFoundError",
     "evalue": "No module named 'mediapipe'",
     "output_type": "error",
     "traceback": [
      "\u001b[1;31m---------------------------------------------------------------------------\u001b[0m",
      "\u001b[1;31mModuleNotFoundError\u001b[0m                       Traceback (most recent call last)",
      "Cell \u001b[1;32mIn [2], line 2\u001b[0m\n\u001b[0;32m      1\u001b[0m \u001b[39mimport\u001b[39;00m \u001b[39mcvzone\u001b[39;00m\n\u001b[1;32m----> 2\u001b[0m \u001b[39mfrom\u001b[39;00m \u001b[39mcvzone\u001b[39;00m\u001b[39m.\u001b[39;00m\u001b[39mSelfiSegmentationModule\u001b[39;00m \u001b[39mimport\u001b[39;00m SelfiSegmentation\n\u001b[0;32m      4\u001b[0m \u001b[39m#segmentor = SelfiSegmentation()\u001b[39;00m\n\u001b[0;32m      5\u001b[0m \u001b[39m#img_Out = segmentor.removeBG(imgGraySmall[0], (255), threshold=0.99)\u001b[39;00m\n\u001b[0;32m      6\u001b[0m \n\u001b[0;32m      7\u001b[0m \u001b[39m#https://github.com/google/mediapipe/issues/3849\u001b[39;00m\n\u001b[0;32m      8\u001b[0m \u001b[39m#https://github.com/google/mediapipe/blob/master/docs/getting_started/python.md#building-mediapipe-python-package\u001b[39;00m\n",
      "File \u001b[1;32mc:\\Users\\黃筱芸\\AppData\\Local\\Programs\\Python\\Python311\\Lib\\site-packages\\cvzone\\SelfiSegmentationModule.py:2\u001b[0m\n\u001b[0;32m      1\u001b[0m \u001b[39mimport\u001b[39;00m \u001b[39mcv2\u001b[39;00m\n\u001b[1;32m----> 2\u001b[0m \u001b[39mimport\u001b[39;00m \u001b[39mmediapipe\u001b[39;00m \u001b[39mas\u001b[39;00m \u001b[39mmp\u001b[39;00m\n\u001b[0;32m      3\u001b[0m \u001b[39mimport\u001b[39;00m \u001b[39mnumpy\u001b[39;00m \u001b[39mas\u001b[39;00m \u001b[39mnp\u001b[39;00m\n\u001b[0;32m      6\u001b[0m \u001b[39mclass\u001b[39;00m \u001b[39mSelfiSegmentation\u001b[39;00m():\n",
      "\u001b[1;31mModuleNotFoundError\u001b[0m: No module named 'mediapipe'"
     ]
    }
   ],
   "source": [
    "#import cvzone\n",
    "#from cvzone.SelfiSegmentationModule import SelfiSegmentation\n",
    "\n",
    "#segmentor = SelfiSegmentation()\n",
    "#img_Out = segmentor.removeBG(imgGraySmall[0], (255), threshold=0.99)\n",
    "\n",
    "#https://github.com/google/mediapipe/issues/3849\n",
    "#https://github.com/google/mediapipe/blob/master/docs/getting_started/python.md#building-mediapipe-python-package"
   ]
  },
  {
   "cell_type": "code",
   "execution_count": 5,
   "metadata": {},
   "outputs": [
    {
     "data": {
      "text/plain": [
       "-1"
      ]
     },
     "execution_count": 5,
     "metadata": {},
     "output_type": "execute_result"
    }
   ],
   "source": [
    "# 對圖像進行二值化，得到二值圖像\n",
    "ret, thresh = cv2.threshold(imgGraySmall[0], 127, 255, cv2.THRESH_BINARY)\n",
    "\n",
    "# 找到圖像中的輪廓\n",
    "contours, hierarchy = cv2.findContours(thresh, cv2.RETR_EXTERNAL, cv2.CHAIN_APPROX_SIMPLE)\n",
    "\n",
    "# 將輪廓繪製在新的圖像上，並去除背景\n",
    "mask = np.zeros_like(imgGraySmall[0])\n",
    "cv2.drawContours(mask, contours, -1, (255), -1)\n",
    "result = cv2.bitwise_and(imgGraySmall[0], mask)\n",
    "\n",
    "# 顯示結果\n",
    "cv2.imshow('Result', result)\n",
    "cv2.waitKey(0)"
   ]
  },
  {
   "cell_type": "code",
   "execution_count": 22,
   "metadata": {},
   "outputs": [],
   "source": [
    "#gray_cutoff = pd.DataFrame(imgGraySmall[0].flatten()).value_counts().index[0][0]"
   ]
  },
  {
   "cell_type": "code",
   "execution_count": 5,
   "metadata": {},
   "outputs": [],
   "source": [
    "tfR = []\n",
    "for n in range(len(imgGraySmall)): \n",
    "    imgGraySmall[n][ imgGraySmall[n] == np.argmax(np.bincount(imgGraySmall[n].flatten()))]= 255 #找出背景最多的數字，再指定成255\n",
    "    img90 = cv2.rotate(imgGraySmall[n], cv2.ROTATE_90_CLOCKWISE)\n",
    "    img180 = cv2.rotate(imgGraySmall[n], cv2.ROTATE_180)\n",
    "    img270 = cv2.rotate(imgGraySmall[n], cv2.ROTATE_90_COUNTERCLOCKWISE)\n",
    "    tfR.extend([imgGraySmall[n], img90, img180, img270])\n",
    "\n",
    "tfF = []\n",
    "for o in range(len(tfR)):\n",
    "    imgUD = cv2.flip(tfR[o], 0)\n",
    "    tfF.extend([tfR[o], imgUD])        \n",
    "\n",
    "tfN = []\n",
    "for p in range(len(tfF)):\n",
    "    img_negative = 255-tfF[p]\n",
    "    img_negative[ img_negative == np.argmax(np.bincount(img_negative.flatten()))]= 255\n",
    "    tfN.extend([tfF[p], img_negative])\n",
    "\n",
    "#print(len(tfR))\n",
    "#print(len(tfF))\n",
    "#print(len(tfN))\n"
   ]
  },
  {
   "cell_type": "code",
   "execution_count": 6,
   "metadata": {},
   "outputs": [],
   "source": [
    "# for r in range(16):\n",
    "#     cv2.imwrite(\"image{}.png\".format(r), tfN[r])"
   ]
  },
  {
   "cell_type": "code",
   "execution_count": 7,
   "metadata": {},
   "outputs": [],
   "source": [
    "flatlist = []\n",
    "for q in tfN:\n",
    "    flatlist.append(q.flatten())"
   ]
  },
  {
   "cell_type": "code",
   "execution_count": null,
   "metadata": {},
   "outputs": [],
   "source": [
    "#flatlist"
   ]
  },
  {
   "cell_type": "code",
   "execution_count": 8,
   "metadata": {},
   "outputs": [],
   "source": [
    "aaa = pd.DataFrame(flatlist).astype('uint8')"
   ]
  },
  {
   "cell_type": "code",
   "execution_count": 9,
   "metadata": {},
   "outputs": [],
   "source": [
    "namelist = []\n",
    "for r in df['productID']:\n",
    "    for s in range(16):\n",
    "        namelist.append(r)"
   ]
  },
  {
   "cell_type": "code",
   "execution_count": 47,
   "metadata": {},
   "outputs": [
    {
     "data": {
      "text/plain": [
       "800"
      ]
     },
     "execution_count": 47,
     "metadata": {},
     "output_type": "execute_result"
    }
   ],
   "source": [
    "#len(namelist)"
   ]
  },
  {
   "cell_type": "code",
   "execution_count": 10,
   "metadata": {},
   "outputs": [],
   "source": [
    "aaa.index = namelist"
   ]
  },
  {
   "cell_type": "code",
   "execution_count": 11,
   "metadata": {},
   "outputs": [],
   "source": [
    "#aaa"
   ]
  },
  {
   "cell_type": "code",
   "execution_count": 12,
   "metadata": {},
   "outputs": [],
   "source": [
    "aaa.to_csv('transformation.csv', encoding = 'utf8')"
   ]
  }
 ],
 "metadata": {
  "kernelspec": {
   "display_name": "Python 3.11.0 64-bit",
   "language": "python",
   "name": "python3"
  },
  "language_info": {
   "codemirror_mode": {
    "name": "ipython",
    "version": 3
   },
   "file_extension": ".py",
   "mimetype": "text/x-python",
   "name": "python",
   "nbconvert_exporter": "python",
   "pygments_lexer": "ipython3",
   "version": "3.11.0"
  },
  "orig_nbformat": 4,
  "vscode": {
   "interpreter": {
    "hash": "574df64408e4635801aa20724f5bd67158dcc0405c62728fda99f99539c35838"
   }
  }
 },
 "nbformat": 4,
 "nbformat_minor": 2
}
