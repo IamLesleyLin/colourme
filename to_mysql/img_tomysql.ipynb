{
 "cells": [
  {
   "cell_type": "code",
   "execution_count": null,
   "id": "fd543469",
   "metadata": {},
   "outputs": [],
   "source": [
    "import pymysql\n",
    "import pandas as pd\n",
    "img=pd.read_csv('transformation.csv')\n",
    "img"
   ]
  },
  {
   "cell_type": "code",
   "execution_count": null,
   "id": "7986239c",
   "metadata": {},
   "outputs": [],
   "source": [
    "id_list=[]\n",
    "img_id=img['id']\n",
    "\n",
    "for i in set(img_id):\n",
    "    id_list.append(i)\n",
    "id_list"
   ]
  },
  {
   "cell_type": "code",
   "execution_count": null,
   "id": "ea5893ed",
   "metadata": {},
   "outputs": [],
   "source": []
  },
  {
   "cell_type": "code",
   "execution_count": null,
   "id": "5cc357e9",
   "metadata": {},
   "outputs": [],
   "source": [
    "try:\n",
    "    connection=pymysql.Connect(host='localhost',user='root',passwd='',database='colourme',cursorclass=pymysql.cursors.DictCursor)\n",
    "    for id in id_list:\n",
    "        mask=(img['id']==id)\n",
    "        img_select=img[mask]\n",
    "        for i in range(len(img_select.columns)):\n",
    "            img_select=img_select.rename(columns={str(i):f\"px{i}\"})\n",
    "        img_select=img_select.drop(['id'],axis=1)\n",
    "        imgr=img_select.T\n",
    "        print('表格處理完成')\n",
    "    \n",
    "        cols=[]\n",
    "        for i in range(len(imgr.columns)):\n",
    "            cols.append(f'pic{i+1}')\n",
    "        cols=str(cols).replace('[','').replace(']','').replace(\"'\",\"`\")\n",
    "    \n",
    "        pid=f'p{id}'\n",
    "        with connection.cursor() as cursor:\n",
    "            command_table=f'CREATE TABLE IF NOT EXISTS {pid}(title CHAR(10) NOT NULL)'\n",
    "            cursor.execute(command_table)\n",
    "            print(command_table)\n",
    "            for i in range(len(imgr.columns)):\n",
    "                command_add_colums=f\"ALTER TABLE {pid} ADD pic{i+1} int(10) NOT NULL\"\n",
    "                cursor.execute(command_add_colums)\n",
    "                connection.commit()\n",
    "\n",
    "    \n",
    "        for k in range(len(imgr.index)):\n",
    "            px=[]\n",
    "            for i in imgr.loc[f'px{k}']:\n",
    "                    px.append(i)\n",
    "            px=str(px).replace(\"[\",\"'\").replace(\"]\",\"'\").replace(\", \",\"', '\")\n",
    "            with connection.cursor() as cursor:\n",
    "                    command_insert=f\"INSERT INTO `{pid}` (`title`,{cols}) VALUES('3333',{px})\"\n",
    "                    cursor.execute(command_insert)\n",
    "                    connection.commit()\n",
    "        print(f'{id}完成')\n",
    "        \n",
    "except Exception as ex:\n",
    "    print(ex)"
   ]
  }
 ],
 "metadata": {
  "kernelspec": {
   "display_name": "Python 3 (ipykernel)",
   "language": "python",
   "name": "python3"
  },
  "language_info": {
   "codemirror_mode": {
    "name": "ipython",
    "version": 3
   },
   "file_extension": ".py",
   "mimetype": "text/x-python",
   "name": "python",
   "nbconvert_exporter": "python",
   "pygments_lexer": "ipython3",
   "version": "3.9.13"
  }
 },
 "nbformat": 4,
 "nbformat_minor": 5
}
