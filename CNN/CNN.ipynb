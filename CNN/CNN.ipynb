{
 "cells": [
  {
   "cell_type": "code",
   "execution_count": 4,
   "metadata": {},
   "outputs": [
    {
     "name": "stdout",
     "output_type": "stream",
     "text": [
      "Collecting drive\n",
      "  Downloading drive-0.4.0-py3-none-any.whl (12 kB)\n",
      "Collecting python-magic<0.5.0,>=0.4.27\n",
      "  Downloading python_magic-0.4.27-py2.py3-none-any.whl (13 kB)\n",
      "Collecting oauth2client<5.0.0,>=4.1.3\n",
      "  Downloading oauth2client-4.1.3-py2.py3-none-any.whl (98 kB)\n",
      "     -------------------------------------- 98.2/98.2 kB 935.8 kB/s eta 0:00:00\n",
      "Requirement already satisfied: openpyxl<4.0.0,>=3.0.10 in c:\\users\\lesley lin\\anaconda3\\lib\\site-packages (from drive) (3.0.10)\n",
      "Collecting google-api-python-client<3.0.0,>=2.64.0\n",
      "  Downloading google_api_python_client-2.69.0-py2.py3-none-any.whl (10.7 MB)\n",
      "     ---------------------------------------- 10.7/10.7 MB 9.8 MB/s eta 0:00:00\n",
      "Collecting httplib2<0.21.0,>=0.20.4\n",
      "  Downloading httplib2-0.20.4-py3-none-any.whl (96 kB)\n",
      "     ---------------------------------------- 96.6/96.6 kB 5.8 MB/s eta 0:00:00\n",
      "Collecting google-auth-httplib2>=0.1.0\n",
      "  Downloading google_auth_httplib2-0.1.0-py2.py3-none-any.whl (9.3 kB)\n",
      "Collecting uritemplate<5,>=3.0.1\n",
      "  Downloading uritemplate-4.1.1-py2.py3-none-any.whl (10 kB)\n",
      "Collecting google-api-core!=2.0.*,!=2.1.*,!=2.2.*,!=2.3.0,<3.0.0dev,>=1.31.5\n",
      "  Downloading google_api_core-2.11.0-py3-none-any.whl (120 kB)\n",
      "     -------------------------------------- 120.3/120.3 kB 7.3 MB/s eta 0:00:00\n",
      "Requirement already satisfied: google-auth<3.0.0dev,>=1.19.0 in c:\\users\\lesley lin\\anaconda3\\lib\\site-packages (from google-api-python-client<3.0.0,>=2.64.0->drive) (2.15.0)\n",
      "Requirement already satisfied: pyparsing!=3.0.0,!=3.0.1,!=3.0.2,!=3.0.3,<4,>=2.4.2 in c:\\users\\lesley lin\\anaconda3\\lib\\site-packages (from httplib2<0.21.0,>=0.20.4->drive) (3.0.9)\n",
      "Requirement already satisfied: rsa>=3.1.4 in c:\\users\\lesley lin\\anaconda3\\lib\\site-packages (from oauth2client<5.0.0,>=4.1.3->drive) (4.9)\n",
      "Requirement already satisfied: pyasn1>=0.1.7 in c:\\users\\lesley lin\\anaconda3\\lib\\site-packages (from oauth2client<5.0.0,>=4.1.3->drive) (0.4.8)\n",
      "Requirement already satisfied: pyasn1-modules>=0.0.5 in c:\\users\\lesley lin\\anaconda3\\lib\\site-packages (from oauth2client<5.0.0,>=4.1.3->drive) (0.2.8)\n",
      "Requirement already satisfied: six>=1.6.1 in c:\\users\\lesley lin\\anaconda3\\lib\\site-packages (from oauth2client<5.0.0,>=4.1.3->drive) (1.16.0)\n",
      "Requirement already satisfied: et_xmlfile in c:\\users\\lesley lin\\anaconda3\\lib\\site-packages (from openpyxl<4.0.0,>=3.0.10->drive) (1.1.0)\n",
      "Requirement already satisfied: protobuf!=3.20.0,!=3.20.1,!=4.21.0,!=4.21.1,!=4.21.2,!=4.21.3,!=4.21.4,!=4.21.5,<5.0.0dev,>=3.19.5 in c:\\users\\lesley lin\\anaconda3\\lib\\site-packages (from google-api-core!=2.0.*,!=2.1.*,!=2.2.*,!=2.3.0,<3.0.0dev,>=1.31.5->google-api-python-client<3.0.0,>=2.64.0->drive) (3.19.6)\n",
      "Collecting googleapis-common-protos<2.0dev,>=1.56.2\n",
      "  Downloading googleapis_common_protos-1.57.0-py2.py3-none-any.whl (217 kB)\n",
      "     ------------------------------------- 218.0/218.0 kB 13.9 MB/s eta 0:00:00\n",
      "Requirement already satisfied: requests<3.0.0dev,>=2.18.0 in c:\\users\\lesley lin\\anaconda3\\lib\\site-packages (from google-api-core!=2.0.*,!=2.1.*,!=2.2.*,!=2.3.0,<3.0.0dev,>=1.31.5->google-api-python-client<3.0.0,>=2.64.0->drive) (2.28.1)\n",
      "Requirement already satisfied: cachetools<6.0,>=2.0.0 in c:\\users\\lesley lin\\anaconda3\\lib\\site-packages (from google-auth<3.0.0dev,>=1.19.0->google-api-python-client<3.0.0,>=2.64.0->drive) (5.2.0)\n",
      "Requirement already satisfied: urllib3<1.27,>=1.21.1 in c:\\users\\lesley lin\\anaconda3\\lib\\site-packages (from requests<3.0.0dev,>=2.18.0->google-api-core!=2.0.*,!=2.1.*,!=2.2.*,!=2.3.0,<3.0.0dev,>=1.31.5->google-api-python-client<3.0.0,>=2.64.0->drive) (1.26.11)\n",
      "Requirement already satisfied: charset-normalizer<3,>=2 in c:\\users\\lesley lin\\anaconda3\\lib\\site-packages (from requests<3.0.0dev,>=2.18.0->google-api-core!=2.0.*,!=2.1.*,!=2.2.*,!=2.3.0,<3.0.0dev,>=1.31.5->google-api-python-client<3.0.0,>=2.64.0->drive) (2.0.4)\n",
      "Requirement already satisfied: certifi>=2017.4.17 in c:\\users\\lesley lin\\anaconda3\\lib\\site-packages (from requests<3.0.0dev,>=2.18.0->google-api-core!=2.0.*,!=2.1.*,!=2.2.*,!=2.3.0,<3.0.0dev,>=1.31.5->google-api-python-client<3.0.0,>=2.64.0->drive) (2022.9.14)\n",
      "Requirement already satisfied: idna<4,>=2.5 in c:\\users\\lesley lin\\anaconda3\\lib\\site-packages (from requests<3.0.0dev,>=2.18.0->google-api-core!=2.0.*,!=2.1.*,!=2.2.*,!=2.3.0,<3.0.0dev,>=1.31.5->google-api-python-client<3.0.0,>=2.64.0->drive) (3.3)\n",
      "Installing collected packages: uritemplate, python-magic, httplib2, googleapis-common-protos, oauth2client, google-auth-httplib2, google-api-core, google-api-python-client, drive\n",
      "Successfully installed drive-0.4.0 google-api-core-2.11.0 google-api-python-client-2.69.0 google-auth-httplib2-0.1.0 googleapis-common-protos-1.57.0 httplib2-0.20.4 oauth2client-4.1.3 python-magic-0.4.27 uritemplate-4.1.1\n"
     ]
    }
   ],
   "source": [
    "!PIP install drive"
   ]
  },
  {
   "cell_type": "code",
   "execution_count": 8,
   "metadata": {},
   "outputs": [
    {
     "name": "stdout",
     "output_type": "stream",
     "text": [
      "Collecting opencv-python\n",
      "  Using cached opencv_python-4.6.0.66-cp36-abi3-win_amd64.whl (35.6 MB)\n",
      "Requirement already satisfied: numpy>=1.14.5 in c:\\users\\lesley lin\\anaconda3\\lib\\site-packages (from opencv-python) (1.21.5)\n",
      "Installing collected packages: opencv-python\n",
      "Successfully installed opencv-python-4.6.0.66\n"
     ]
    }
   ],
   "source": [
    "!pip install opencv-python"
   ]
  },
  {
   "cell_type": "code",
   "execution_count": 1,
   "metadata": {
    "id": "wiU60mr_z2YS"
   },
   "outputs": [],
   "source": [
    "import keras\n",
    "from keras.models import Sequential\n",
    "from keras.layers import Dense, Dropout, Flatten\n",
    "from keras.layers import Conv2D, MaxPooling2D\n",
    "from keras.utils import to_categorical\n",
    "\n",
    "import cv2\n",
    "import pandas as pd\n",
    "import numpy as np\n",
    "\n",
    "from sklearn.model_selection import train_test_split\n",
    "#from sklearn.model_selection import cross_val_score\n",
    "from sklearn.preprocessing import LabelEncoder , OneHotEncoder"
   ]
  },
  {
   "cell_type": "code",
   "execution_count": 2,
   "metadata": {
    "id": "XEyTB7c7CCbu"
   },
   "outputs": [],
   "source": [
    "df = pd.read_csv('transformation.csv')"
   ]
  },
  {
   "cell_type": "code",
   "execution_count": 4,
   "metadata": {
    "id": "5pKugkmGAwrX"
   },
   "outputs": [],
   "source": [
    "#簡單的\n",
    "x, y = df[df.columns[1:]], df[df.columns[0]]\n",
    "labelencoder = LabelEncoder()\n",
    "y = labelencoder.fit_transform(y)\n",
    "\n",
    "x_traval, x_test, y_traval, y_test = train_test_split(x, y, test_size=0.2, random_state = 1, stratify= y)\n",
    "x_train, x_val, y_train, y_val = train_test_split(x_traval, y_traval, test_size=0.2, random_state = 1, stratify= y_traval)\n",
    "\n"
   ]
  },
  {
   "cell_type": "code",
   "execution_count": 5,
   "metadata": {
    "id": "j8QFnLNRbnAr"
   },
   "outputs": [],
   "source": [
    "#reshape\n",
    "x_train_r = np.array(x_train).reshape(-1,100,100)\n",
    "x_test_r = np.array(x_test).reshape(-1,100,100)\n",
    "x_val_r = np.array(x_val).reshape(-1,100,100)\n",
    "\n",
    "# y_train = np.array(y_train)\n",
    "# y_test = np.array(y_test)\n",
    "# y_val = np.array(y_val)\n",
    "\n",
    "# 轉換色彩 0~255 資料為 0~1\n",
    "x_train_r = x_train_r.astype('float32')\n",
    "x_val_r = x_val_r.astype('float32')\n",
    "x_test_r = x_test_r.astype('float32')\n",
    "\n",
    "x_train_r /= 255\n",
    "x_val_r /= 255\n",
    "x_test_r /= 255\n",
    "\n",
    "# y 值轉成 one-hot encoding\n",
    "y_train = keras.utils.to_categorical(y_train, num_classes=50, dtype='float32') \n",
    "y_test = keras.utils.to_categorical(y_test, num_classes=50, dtype='float32')\n",
    "y_val = keras.utils.to_categorical(y_val, num_classes=50, dtype='float32')\n",
    "\n",
    "# mnist 的圖集黑色是255，白色是 0，而圖片讀進來是 黑色是0，白色是 255\n",
    "# 所以在這裡除255後，也順便把黑白翻轉過來。\n",
    "#data = 1 - data / 255.0 已經做了uint8"
   ]
  },
  {
   "cell_type": "code",
   "execution_count": null,
   "metadata": {
    "id": "564Mp2v08_WW"
   },
   "outputs": [],
   "source": [
    "#標準化 min-max https://stackoverflow.com/questions/72517783/scaling-row-wise-with-minmaxscaler-from-sklearn"
   ]
  },
  {
   "cell_type": "code",
   "execution_count": null,
   "metadata": {
    "id": "mPZAwY-Qz2Yg"
   },
   "outputs": [],
   "source": [
    "# from keras.preprocessing.image import ImageDataGenerator #利用現有的資料經過旋轉、翻轉、縮放…等方式增加更多的訓練資料\n",
    "# train_datagen = ImageDataGenerator(rescale = 1./255, shear_range = 0.2, zoom_range = 0.2, horizontal_flip = True)\n",
    "# test_datagen = ImageDataGenerator(rescale = 1./255)\n",
    "\n",
    "\n",
    "# #要把資料做轉換的步驟則是用 .flow(X,y) 或是 .flow_from_directory(directory) 讀取資料集+批量生成器，產生每epoch訓練樣本\n",
    "# training_set = train_datagen.flow_from_directory(\"./classify/dataset/training_set\", target_size = (64, 64), batch_size = 5)\n",
    "# test_set = test_datagen.flow_from_directory(\"./classify/dataset/test_set\", target_size = (64, 64), batch_size = 5)\n"
   ]
  },
  {
   "cell_type": "code",
   "execution_count": 8,
   "metadata": {
    "colab": {
     "base_uri": "https://localhost:8080/"
    },
    "id": "sYHmq6WMz2Yi",
    "outputId": "2d9ddd27-be51-431b-ae11-d85908e81dc0"
   },
   "outputs": [
    {
     "name": "stdout",
     "output_type": "stream",
     "text": [
      "Epoch 1/20\n",
      "3/3 [==============================] - 7s 2s/step - loss: 3.9835 - acc: 0.0098 - val_loss: 3.9140 - val_acc: 0.0156\n",
      "Epoch 2/20\n",
      "3/3 [==============================] - 4s 1s/step - loss: 3.9121 - acc: 0.0156 - val_loss: 3.9120 - val_acc: 0.0312\n",
      "Epoch 3/20\n",
      "3/3 [==============================] - 4s 1s/step - loss: 3.9116 - acc: 0.0254 - val_loss: 3.9130 - val_acc: 0.0312\n",
      "Epoch 4/20\n",
      "3/3 [==============================] - 5s 2s/step - loss: 3.9087 - acc: 0.0215 - val_loss: 3.9157 - val_acc: 0.0000e+00\n",
      "Epoch 5/20\n",
      "3/3 [==============================] - 4s 1s/step - loss: 3.9052 - acc: 0.0254 - val_loss: 3.9181 - val_acc: 0.0156\n",
      "Epoch 6/20\n",
      "3/3 [==============================] - 4s 1s/step - loss: 3.8987 - acc: 0.0293 - val_loss: 3.9219 - val_acc: 0.0234\n",
      "Epoch 7/20\n",
      "3/3 [==============================] - 4s 1s/step - loss: 3.8859 - acc: 0.0410 - val_loss: 3.9288 - val_acc: 0.0156\n",
      "Epoch 8/20\n",
      "3/3 [==============================] - 5s 1s/step - loss: 3.8675 - acc: 0.0273 - val_loss: 3.9378 - val_acc: 0.0000e+00\n",
      "Epoch 9/20\n",
      "3/3 [==============================] - 4s 1s/step - loss: 3.8292 - acc: 0.0508 - val_loss: 3.9458 - val_acc: 0.0234\n",
      "Epoch 10/20\n",
      "3/3 [==============================] - 4s 1s/step - loss: 3.7780 - acc: 0.0664 - val_loss: 3.9733 - val_acc: 0.0234\n",
      "Epoch 11/20\n",
      "3/3 [==============================] - 5s 2s/step - loss: 3.7031 - acc: 0.0762 - val_loss: 3.9566 - val_acc: 0.0078\n",
      "Epoch 12/20\n",
      "3/3 [==============================] - 4s 1s/step - loss: 3.5945 - acc: 0.0801 - val_loss: 3.9593 - val_acc: 0.0312\n",
      "Epoch 13/20\n",
      "3/3 [==============================] - 4s 1s/step - loss: 3.4888 - acc: 0.1172 - val_loss: 3.9427 - val_acc: 0.0156\n",
      "Epoch 14/20\n",
      "3/3 [==============================] - 4s 1s/step - loss: 3.3812 - acc: 0.1270 - val_loss: 4.0044 - val_acc: 0.0156\n",
      "Epoch 15/20\n",
      "3/3 [==============================] - 5s 1s/step - loss: 3.2135 - acc: 0.1406 - val_loss: 4.0026 - val_acc: 0.0156\n",
      "Epoch 16/20\n",
      "3/3 [==============================] - 4s 1s/step - loss: 3.0388 - acc: 0.2031 - val_loss: 3.9976 - val_acc: 0.0312\n",
      "Epoch 17/20\n",
      "3/3 [==============================] - 4s 1s/step - loss: 2.8371 - acc: 0.2363 - val_loss: 4.0304 - val_acc: 0.0391\n",
      "Epoch 18/20\n",
      "3/3 [==============================] - 5s 2s/step - loss: 2.7123 - acc: 0.2656 - val_loss: 3.9311 - val_acc: 0.0391\n",
      "Epoch 19/20\n",
      "3/3 [==============================] - 5s 1s/step - loss: 2.5130 - acc: 0.3125 - val_loss: 3.9664 - val_acc: 0.0625\n",
      "Epoch 20/20\n",
      "3/3 [==============================] - 4s 1s/step - loss: 2.2594 - acc: 0.4102 - val_loss: 3.9523 - val_acc: 0.0312\n",
      "Test loss: 3.8797943592071533 / Test accuracy: 0.05000000074505806\n"
     ]
    }
   ],
   "source": [
    "# 定義分類數量\n",
    "num_classes = 50\n",
    "\n",
    "model = Sequential()\n",
    "model.add(Conv2D(32, (3, 3), input_shape=(100, 100, 1), activation='relu')) #32 is no. of filters and kernel size is 5*5. ReLU is activation layer\n",
    "model.add(MaxPooling2D(pool_size=(2,2))) #add Max pooling layer with kernel size 2*2 \n",
    "# model.add(Dropout(0.2))\n",
    "model.add(Conv2D(64, (3, 3), input_shape=(100, 100, 1), activation='relu')) #32 is no. of filters and kernel size is 5*5. ReLU is activation layer\n",
    "model.add(MaxPooling2D(pool_size=(2,2))) #add Max pooling layer with kernel size 2*2 \n",
    "model.add(Conv2D(128, (3, 3), input_shape=(100, 100, 1), activation='relu')) #32 is no. of filters and kernel size is 5*5. ReLU is activation layer\n",
    "model.add(MaxPooling2D(pool_size=(2,2))) #add Max pooling layer with kernel size 2*2 \n",
    "model.add(Flatten())\n",
    "model.add(Dense(128, activation='relu'))\n",
    "model.add(Dense(num_classes, activation='softmax')) \n",
    "\n",
    "model.compile(loss='categorical_crossentropy', optimizer='adam', metrics=['acc'])\n",
    "model.fit(x_train_r, y_train, validation_data=(x_val_r, y_val), epochs=20, batch_size=200)\n",
    "\n",
    "#Evaluating model in keras\n",
    "score = model.evaluate(x_test_r, y_test, verbose=0)\n",
    "print(f'Test loss: {score[0]} / Test accuracy: {score[1]}')\n",
    "\n",
    "# model.fit_generator(training_set, epochs = 2, validation_data = test_set, verbose = 1)\n",
    "# score = model.evaluate_generator(test_set)\n",
    "\n",
    "\n",
    "#model.save('EfficientNetB0-40-Stripped.h5', include_optimizer=False)如果你對這個模型滿意，想要保留之後使用的話，可以這樣設定儲存參數，那麼優化器的狀態不會被保存下來，可以節省不少體積，減少的體積量依使用優化器的不同而定，使用adam的話，這麼做是很有感的，如果你是之前中斷訓練，且有意後續載入繼續進行訓練的話，建議可以先不做。"
   ]
  }
 ],
 "metadata": {
  "colab": {
   "provenance": []
  },
  "kernelspec": {
   "display_name": "Python 3 (ipykernel)",
   "language": "python",
   "name": "python3"
  },
  "language_info": {
   "codemirror_mode": {
    "name": "ipython",
    "version": 3
   },
   "file_extension": ".py",
   "mimetype": "text/x-python",
   "name": "python",
   "nbconvert_exporter": "python",
   "pygments_lexer": "ipython3",
   "version": "3.9.13"
  },
  "vscode": {
   "interpreter": {
    "hash": "574df64408e4635801aa20724f5bd67158dcc0405c62728fda99f99539c35838"
   }
  }
 },
 "nbformat": 4,
 "nbformat_minor": 1
}
