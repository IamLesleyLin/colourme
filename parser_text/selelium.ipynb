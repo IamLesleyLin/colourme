{
 "cells": [
  {
   "cell_type": "code",
   "execution_count": 42,
   "metadata": {},
   "outputs": [
    {
     "name": "stderr",
     "output_type": "stream",
     "text": [
      "C:\\Users\\Lesley Lin\\AppData\\Local\\Temp\\ipykernel_21336\\1425745401.py:16: DeprecationWarning: use options instead of chrome_options\n",
      "  driver = webdriver.Chrome(chrome_options = options)\n"
     ]
    }
   ],
   "source": [
    "from selenium import webdriver\n",
    "import time\n",
    "from bs4 import BeautifulSoup\n",
    "from selenium.webdriver.common.by import By\n",
    "from selenium.webdriver.chrome.options import Options\n",
    "\n",
    "options = webdriver.ChromeOptions()\n",
    "prefs = {\n",
    "    'profile.default_content_setting_values' :\n",
    "        {\n",
    "        'notifications' : 2\n",
    "         }\n",
    "}\n",
    "options.add_experimental_option('prefs',prefs)\n",
    "\n",
    "driver = webdriver.Chrome(chrome_options = options)\n",
    "\n",
    "url=driver.get(\"https://www.adidas.com.tw/product/50098576\")\n",
    "\n",
    "\n",
    "time.sleep(3)\n",
    "\n"
   ]
  },
  {
   "cell_type": "code",
   "execution_count": 44,
   "metadata": {},
   "outputs": [
    {
     "data": {
      "text/plain": [
       "[<selenium.webdriver.remote.webelement.WebElement (session=\"22c3355f12257b9794ae8277fec31c69\", element=\"c0d435b5-c3bd-44a6-bf6c-22607ed31461\")>]"
      ]
     },
     "execution_count": 44,
     "metadata": {},
     "output_type": "execute_result"
    }
   ],
   "source": [
    "w=driver.find_elements(By.XPATH,\"//span[@class='ins-dynamic-element-tag ins-dynamic-attribute']\")\n",
    "w"
   ]
  },
  {
   "cell_type": "code",
   "execution_count": null,
   "metadata": {},
   "outputs": [],
   "source": []
  },
  {
   "cell_type": "code",
   "execution_count": 48,
   "metadata": {},
   "outputs": [],
   "source": [
    "from selenium import webdriver\n",
    "import time\n",
    "from bs4 import BeautifulSoup\n",
    "from selenium.webdriver.common.by import By\n",
    "from selenium.webdriver.chrome.options import Options\n",
    "\n",
    "driver = webdriver.Chrome()\n",
    "\n",
    "url=driver.get(\"https://www.adidas.com.tw/product/50098576\")\n",
    "time.sleep(3)\n"
   ]
  },
  {
   "cell_type": "code",
   "execution_count": 58,
   "metadata": {},
   "outputs": [
    {
     "name": "stdout",
     "output_type": "stream",
     "text": [
      "120\n"
     ]
    }
   ],
   "source": [
    "w=driver.find_elements(By.XPATH,\"//span[@class='ins-dynamic-element-tag ins-dynamic-attribute']\")\n",
    "for i in w:\n",
    "    print(i.text)\n"
   ]
  },
  {
   "cell_type": "code",
   "execution_count": 57,
   "metadata": {},
   "outputs": [
    {
     "name": "stdout",
     "output_type": "stream",
     "text": [
      "120\n",
      "============================\n"
     ]
    }
   ],
   "source": [
    "for i in w:\n",
    "    print(i.text)\n",
    "    print('============================')"
   ]
  },
  {
   "cell_type": "code",
   "execution_count": 61,
   "metadata": {},
   "outputs": [
    {
     "name": "stdout",
     "output_type": "stream",
     "text": [
      "https://www.adidas.com.tw/product/50237232\n",
      "https://www.adidas.com.tw/product/50237188\n",
      "https://www.adidas.com.tw/product/50236824\n",
      "https://www.adidas.com.tw/product/50224852\n",
      "https://www.adidas.com.tw/product/50224804\n",
      "https://www.adidas.com.tw/product/50224644\n",
      "https://www.adidas.com.tw/product/50224272\n",
      "https://www.adidas.com.tw/product/50221810\n",
      "https://www.adidas.com.tw/product/50220604\n",
      "https://www.adidas.com.tw/product/50220480\n",
      "https://www.adidas.com.tw/product/50219804\n",
      "https://www.adidas.com.tw/product/50219392\n",
      "https://www.adidas.com.tw/product/50209912\n",
      "https://www.adidas.com.tw/product/50209824\n",
      "https://www.adidas.com.tw/product/50209624\n",
      "https://www.adidas.com.tw/product/50208548\n",
      "https://www.adidas.com.tw/product/50206900\n",
      "https://www.adidas.com.tw/product/50200284\n",
      "https://www.adidas.com.tw/product/50199466\n",
      "https://www.adidas.com.tw/product/50199158\n",
      "https://www.adidas.com.tw/product/50191896\n",
      "https://www.adidas.com.tw/product/50191824\n",
      "https://www.adidas.com.tw/product/50191324\n",
      "https://www.adidas.com.tw/product/50191184\n",
      "https://www.adidas.com.tw/product/50191032\n",
      "https://www.adidas.com.tw/product/50189240\n",
      "https://www.adidas.com.tw/product/50188936\n",
      "https://www.adidas.com.tw/product/50188848\n",
      "https://www.adidas.com.tw/product/50188752\n",
      "https://www.adidas.com.tw/product/50188528\n",
      "https://www.adidas.com.tw/product/50188204\n",
      "https://www.adidas.com.tw/product/50175146\n",
      "https://www.adidas.com.tw/product/50174718\n",
      "https://www.adidas.com.tw/product/50162782\n",
      "https://www.adidas.com.tw/product/50162730\n",
      "https://www.adidas.com.tw/product/50162666\n",
      "https://www.adidas.com.tw/product/50149300\n",
      "https://www.adidas.com.tw/product/50143776\n",
      "https://www.adidas.com.tw/product/50141920\n",
      "https://www.adidas.com.tw/product/50141244\n",
      "https://www.adidas.com.tw/product/50141060\n",
      "https://www.adidas.com.tw/product/50139956\n",
      "https://www.adidas.com.tw/product/50135218\n",
      "https://www.adidas.com.tw/product/50134654\n",
      "https://www.adidas.com.tw/product/50134278\n",
      "https://www.adidas.com.tw/product/50134130\n",
      "https://www.adidas.com.tw/product/50129334\n",
      "https://www.adidas.com.tw/product/50128810\n",
      "https://www.adidas.com.tw/product/50125546\n",
      "https://www.adidas.com.tw/product/50125266\n",
      "https://www.adidas.com.tw/product/50124546\n",
      "255\n"
     ]
    },
    {
     "ename": "StaleElementReferenceException",
     "evalue": "Message: stale element reference: element is not attached to the page document\n  (Session info: chrome=108.0.5359.73)\nStacktrace:\nBacktrace:\n\t(No symbol) [0x0117F243]\n\t(No symbol) [0x01107FD1]\n\t(No symbol) [0x00FFD04D]\n\t(No symbol) [0x00FFFD34]\n\t(No symbol) [0x00FFFBE5]\n\t(No symbol) [0x00FFFE80]\n\t(No symbol) [0x01027D27]\n\t(No symbol) [0x0104858C]\n\t(No symbol) [0x01022BFF]\n\t(No symbol) [0x01048804]\n\t(No symbol) [0x0105C9EB]\n\t(No symbol) [0x01048386]\n\t(No symbol) [0x0102163C]\n\t(No symbol) [0x0102269D]\n\tGetHandleVerifier [0x01419A22+2655074]\n\tGetHandleVerifier [0x0140CA24+2601828]\n\tGetHandleVerifier [0x01228C0A+619850]\n\tGetHandleVerifier [0x01227830+614768]\n\t(No symbol) [0x011105FC]\n\t(No symbol) [0x01115968]\n\t(No symbol) [0x01115A55]\n\t(No symbol) [0x0112051B]\n\tBaseThreadInitThunk [0x7631FEF9+25]\n\tRtlGetAppContainerNamedObjectPath [0x77227BBE+286]\n\tRtlGetAppContainerNamedObjectPath [0x77227B8E+238]\n",
     "output_type": "error",
     "traceback": [
      "\u001b[1;31m---------------------------------------------------------------------------\u001b[0m",
      "\u001b[1;31mStaleElementReferenceException\u001b[0m            Traceback (most recent call last)",
      "\u001b[1;32mc:\\檔案\\正經的部分\\FintechAI大數據養成班\\courlorme\\selelium.ipynb Cell 7\u001b[0m in \u001b[0;36m<cell line: 28>\u001b[1;34m()\u001b[0m\n\u001b[0;32m     <a href='vscode-notebook-cell:/c%3A/%E6%AA%94%E6%A1%88/%E6%AD%A3%E7%B6%93%E7%9A%84%E9%83%A8%E5%88%86/FintechAI%E5%A4%A7%E6%95%B8%E6%93%9A%E9%A4%8A%E6%88%90%E7%8F%AD/courlorme/selelium.ipynb#W6sZmlsZQ%3D%3D?line=31'>32</a>\u001b[0m w\u001b[39m=\u001b[39mdriver\u001b[39m.\u001b[39mfind_elements(By\u001b[39m.\u001b[39mXPATH,\u001b[39m\"\u001b[39m\u001b[39m//span[@class=\u001b[39m\u001b[39m'\u001b[39m\u001b[39mins-dynamic-element-tag ins-dynamic-attribute\u001b[39m\u001b[39m'\u001b[39m\u001b[39m]\u001b[39m\u001b[39m\"\u001b[39m)\n\u001b[0;32m     <a href='vscode-notebook-cell:/c%3A/%E6%AA%94%E6%A1%88/%E6%AD%A3%E7%B6%93%E7%9A%84%E9%83%A8%E5%88%86/FintechAI%E5%A4%A7%E6%95%B8%E6%93%9A%E9%A4%8A%E6%88%90%E7%8F%AD/courlorme/selelium.ipynb#W6sZmlsZQ%3D%3D?line=32'>33</a>\u001b[0m \u001b[39mfor\u001b[39;00m i \u001b[39min\u001b[39;00m w:\n\u001b[1;32m---> <a href='vscode-notebook-cell:/c%3A/%E6%AA%94%E6%A1%88/%E6%AD%A3%E7%B6%93%E7%9A%84%E9%83%A8%E5%88%86/FintechAI%E5%A4%A7%E6%95%B8%E6%93%9A%E9%A4%8A%E6%88%90%E7%8F%AD/courlorme/selelium.ipynb#W6sZmlsZQ%3D%3D?line=33'>34</a>\u001b[0m     \u001b[39mprint\u001b[39m(i\u001b[39m.\u001b[39;49mtext)\n",
      "File \u001b[1;32mc:\\python3106\\lib\\site-packages\\selenium\\webdriver\\remote\\webelement.py:89\u001b[0m, in \u001b[0;36mWebElement.text\u001b[1;34m(self)\u001b[0m\n\u001b[0;32m     86\u001b[0m \u001b[39m@property\u001b[39m\n\u001b[0;32m     87\u001b[0m \u001b[39mdef\u001b[39;00m \u001b[39mtext\u001b[39m(\u001b[39mself\u001b[39m) \u001b[39m-\u001b[39m\u001b[39m>\u001b[39m \u001b[39mstr\u001b[39m:\n\u001b[0;32m     88\u001b[0m     \u001b[39m\"\"\"The text of the element.\"\"\"\u001b[39;00m\n\u001b[1;32m---> 89\u001b[0m     \u001b[39mreturn\u001b[39;00m \u001b[39mself\u001b[39;49m\u001b[39m.\u001b[39;49m_execute(Command\u001b[39m.\u001b[39;49mGET_ELEMENT_TEXT)[\u001b[39m\"\u001b[39m\u001b[39mvalue\u001b[39m\u001b[39m\"\u001b[39m]\n",
      "File \u001b[1;32mc:\\python3106\\lib\\site-packages\\selenium\\webdriver\\remote\\webelement.py:410\u001b[0m, in \u001b[0;36mWebElement._execute\u001b[1;34m(self, command, params)\u001b[0m\n\u001b[0;32m    408\u001b[0m     params \u001b[39m=\u001b[39m {}\n\u001b[0;32m    409\u001b[0m params[\u001b[39m\"\u001b[39m\u001b[39mid\u001b[39m\u001b[39m\"\u001b[39m] \u001b[39m=\u001b[39m \u001b[39mself\u001b[39m\u001b[39m.\u001b[39m_id\n\u001b[1;32m--> 410\u001b[0m \u001b[39mreturn\u001b[39;00m \u001b[39mself\u001b[39;49m\u001b[39m.\u001b[39;49m_parent\u001b[39m.\u001b[39;49mexecute(command, params)\n",
      "File \u001b[1;32mc:\\python3106\\lib\\site-packages\\selenium\\webdriver\\remote\\webdriver.py:444\u001b[0m, in \u001b[0;36mWebDriver.execute\u001b[1;34m(self, driver_command, params)\u001b[0m\n\u001b[0;32m    442\u001b[0m response \u001b[39m=\u001b[39m \u001b[39mself\u001b[39m\u001b[39m.\u001b[39mcommand_executor\u001b[39m.\u001b[39mexecute(driver_command, params)\n\u001b[0;32m    443\u001b[0m \u001b[39mif\u001b[39;00m response:\n\u001b[1;32m--> 444\u001b[0m     \u001b[39mself\u001b[39;49m\u001b[39m.\u001b[39;49merror_handler\u001b[39m.\u001b[39;49mcheck_response(response)\n\u001b[0;32m    445\u001b[0m     response[\u001b[39m\"\u001b[39m\u001b[39mvalue\u001b[39m\u001b[39m\"\u001b[39m] \u001b[39m=\u001b[39m \u001b[39mself\u001b[39m\u001b[39m.\u001b[39m_unwrap_value(response\u001b[39m.\u001b[39mget(\u001b[39m\"\u001b[39m\u001b[39mvalue\u001b[39m\u001b[39m\"\u001b[39m, \u001b[39mNone\u001b[39;00m))\n\u001b[0;32m    446\u001b[0m     \u001b[39mreturn\u001b[39;00m response\n",
      "File \u001b[1;32mc:\\python3106\\lib\\site-packages\\selenium\\webdriver\\remote\\errorhandler.py:249\u001b[0m, in \u001b[0;36mErrorHandler.check_response\u001b[1;34m(self, response)\u001b[0m\n\u001b[0;32m    247\u001b[0m         alert_text \u001b[39m=\u001b[39m value[\u001b[39m\"\u001b[39m\u001b[39malert\u001b[39m\u001b[39m\"\u001b[39m]\u001b[39m.\u001b[39mget(\u001b[39m\"\u001b[39m\u001b[39mtext\u001b[39m\u001b[39m\"\u001b[39m)\n\u001b[0;32m    248\u001b[0m     \u001b[39mraise\u001b[39;00m exception_class(message, screen, stacktrace, alert_text)  \u001b[39m# type: ignore[call-arg]  # mypy is not smart enough here\u001b[39;00m\n\u001b[1;32m--> 249\u001b[0m \u001b[39mraise\u001b[39;00m exception_class(message, screen, stacktrace)\n",
      "\u001b[1;31mStaleElementReferenceException\u001b[0m: Message: stale element reference: element is not attached to the page document\n  (Session info: chrome=108.0.5359.73)\nStacktrace:\nBacktrace:\n\t(No symbol) [0x0117F243]\n\t(No symbol) [0x01107FD1]\n\t(No symbol) [0x00FFD04D]\n\t(No symbol) [0x00FFFD34]\n\t(No symbol) [0x00FFFBE5]\n\t(No symbol) [0x00FFFE80]\n\t(No symbol) [0x01027D27]\n\t(No symbol) [0x0104858C]\n\t(No symbol) [0x01022BFF]\n\t(No symbol) [0x01048804]\n\t(No symbol) [0x0105C9EB]\n\t(No symbol) [0x01048386]\n\t(No symbol) [0x0102163C]\n\t(No symbol) [0x0102269D]\n\tGetHandleVerifier [0x01419A22+2655074]\n\tGetHandleVerifier [0x0140CA24+2601828]\n\tGetHandleVerifier [0x01228C0A+619850]\n\tGetHandleVerifier [0x01227830+614768]\n\t(No symbol) [0x011105FC]\n\t(No symbol) [0x01115968]\n\t(No symbol) [0x01115A55]\n\t(No symbol) [0x0112051B]\n\tBaseThreadInitThunk [0x7631FEF9+25]\n\tRtlGetAppContainerNamedObjectPath [0x77227BBE+286]\n\tRtlGetAppContainerNamedObjectPath [0x77227B8E+238]\n"
     ]
    }
   ],
   "source": [
    "from selenium import webdriver\n",
    "import time\n",
    "import requests\n",
    "from selenium.webdriver.common.by import By\n",
    "import re\n",
    "from bs4 import BeautifulSoup\n",
    "import time\n",
    "import pandas as pd\n",
    "import numpy as np\n",
    "df_50=pd.read_csv('df_50.csv')\n",
    "df_50\n",
    "\n",
    "select_list=[]\n",
    "for i in range(len(df_50)):\n",
    "    df_50.iat[i,0]\n",
    "    select_list.append(df_50.iat[i,0])\n",
    "select_list\n",
    "\n",
    "html=[]\n",
    "addidasUrl = 'https://www.adidas.com.tw/product/'\n",
    "for i in select_list:\n",
    "    k=addidasUrl + str(i)\n",
    "    print(k)\n",
    "    html.append(k)\n",
    "df_text=pd.DataFrame(columns=['number','id','name','text','price','url','hot'])\n",
    "\n",
    "hot=[]\n",
    "for i in html:\n",
    "    driver = webdriver.Chrome()\n",
    "    driver.get(i)\n",
    "    time.sleep(3)\n",
    "    w=driver.find_elements(By.XPATH,\"//span[@class='ins-dynamic-element-tag ins-dynamic-attribute']\")\n",
    "    for i in w:\n",
    "        print(i.text)\n"
   ]
  },
  {
   "cell_type": "code",
   "execution_count": null,
   "metadata": {},
   "outputs": [],
   "source": []
  },
  {
   "cell_type": "code",
   "execution_count": null,
   "metadata": {},
   "outputs": [],
   "source": []
  },
  {
   "cell_type": "code",
   "execution_count": null,
   "metadata": {},
   "outputs": [],
   "source": []
  }
 ],
 "metadata": {
  "kernelspec": {
   "display_name": "Python 3.10.6 64-bit",
   "language": "python",
   "name": "python3"
  },
  "language_info": {
   "codemirror_mode": {
    "name": "ipython",
    "version": 3
   },
   "file_extension": ".py",
   "mimetype": "text/x-python",
   "name": "python",
   "nbconvert_exporter": "python",
   "pygments_lexer": "ipython3",
   "version": "3.10.6"
  },
  "orig_nbformat": 4,
  "vscode": {
   "interpreter": {
    "hash": "22ac92fa7380955e9d5490c736288b96d340f6eeb2db5956448ab0593e5495af"
   }
  }
 },
 "nbformat": 4,
 "nbformat_minor": 2
}
